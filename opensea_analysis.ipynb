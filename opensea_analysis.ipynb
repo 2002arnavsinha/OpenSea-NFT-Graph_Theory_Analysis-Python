{
 "cells": [
  {
   "cell_type": "markdown",
   "id": "d3674e07",
   "metadata": {},
   "source": [
    "<h1> <center> Opensea Analysis </center> </h1>"
   ]
  },
  {
   "cell_type": "markdown",
   "id": "8addbf7a",
   "metadata": {},
   "source": [
    "### Importing entire historical NFT Transaction data from 4th Feb 2018 to 27th April 2021"
   ]
  },
  {
   "cell_type": "code",
   "execution_count": 1,
   "id": "3132de72",
   "metadata": {
    "scrolled": true
   },
   "outputs": [
    {
     "name": "stderr",
     "output_type": "stream",
     "text": [
      "C:\\Users\\12138\\anaconda3\\lib\\site-packages\\IPython\\core\\interactiveshell.py:3165: DtypeWarning: Columns (0,1,2,4,6,8,9,10,14,15,20) have mixed types.Specify dtype option on import or set low_memory=False.\n",
      "  has_raised = await self.run_ast_nodes(code_ast.body, cell_name,\n"
     ]
    },
    {
     "data": {
      "text/html": [
       "<div>\n",
       "<style scoped>\n",
       "    .dataframe tbody tr th:only-of-type {\n",
       "        vertical-align: middle;\n",
       "    }\n",
       "\n",
       "    .dataframe tbody tr th {\n",
       "        vertical-align: top;\n",
       "    }\n",
       "\n",
       "    .dataframe thead th {\n",
       "        text-align: right;\n",
       "    }\n",
       "</style>\n",
       "<table border=\"1\" class=\"dataframe\">\n",
       "  <thead>\n",
       "    <tr style=\"text-align: right;\">\n",
       "      <th></th>\n",
       "      <th>Smart_contract</th>\n",
       "      <th>ID_token</th>\n",
       "      <th>Transaction_hash</th>\n",
       "      <th>Seller_address</th>\n",
       "      <th>Seller_username</th>\n",
       "      <th>Buyer_address</th>\n",
       "      <th>Buyer_username</th>\n",
       "      <th>Image_url_1</th>\n",
       "      <th>Image_url_2</th>\n",
       "      <th>Image_url_3</th>\n",
       "      <th>...</th>\n",
       "      <th>Name</th>\n",
       "      <th>Description</th>\n",
       "      <th>Collection</th>\n",
       "      <th>Market</th>\n",
       "      <th>Datetime_updated</th>\n",
       "      <th>Datetime_updated_seconds</th>\n",
       "      <th>Permanent_link</th>\n",
       "      <th>Unique_id_collection</th>\n",
       "      <th>Collection_cleaned</th>\n",
       "      <th>Category</th>\n",
       "    </tr>\n",
       "  </thead>\n",
       "  <tbody>\n",
       "    <tr>\n",
       "      <th>0</th>\n",
       "      <td>NaN</td>\n",
       "      <td>87094722.0</td>\n",
       "      <td>0xed9ff1c311a611e5c457ce0a49bbbb7ed55efca98842...</td>\n",
       "      <td>0x76481caa104b5f6bccb540dae4cefaf1c398ebea</td>\n",
       "      <td>NaN</td>\n",
       "      <td>0xe0fb7622091e3d9ef9b438471b10b9ea88c7cf6b</td>\n",
       "      <td>NaN</td>\n",
       "      <td>https://card.godsunchained.com/?id=33&amp;q=4</td>\n",
       "      <td>NaN</td>\n",
       "      <td>NaN</td>\n",
       "      <td>...</td>\n",
       "      <td>NaN</td>\n",
       "      <td>NaN</td>\n",
       "      <td>Godsunchained</td>\n",
       "      <td>Godsunchained</td>\n",
       "      <td>2019-11-30 00:00:00</td>\n",
       "      <td>2019-11-30 23:59:33</td>\n",
       "      <td>NaN</td>\n",
       "      <td>('Godsunchained', '87094722.0')</td>\n",
       "      <td>Godsunchained</td>\n",
       "      <td>Games</td>\n",
       "    </tr>\n",
       "    <tr>\n",
       "      <th>1</th>\n",
       "      <td>NaN</td>\n",
       "      <td>73044643.0</td>\n",
       "      <td>0xbc8412594ffa7382e8306215ece5b4e041fc641b1813...</td>\n",
       "      <td>0x76481caa104b5f6bccb540dae4cefaf1c398ebea</td>\n",
       "      <td>NaN</td>\n",
       "      <td>0x2c00d05ff7ffe93d77145dfe12aa56e622ae6f40</td>\n",
       "      <td>NaN</td>\n",
       "      <td>https://card.godsunchained.com/?id=79&amp;q=4</td>\n",
       "      <td>NaN</td>\n",
       "      <td>NaN</td>\n",
       "      <td>...</td>\n",
       "      <td>NaN</td>\n",
       "      <td>NaN</td>\n",
       "      <td>Godsunchained</td>\n",
       "      <td>Godsunchained</td>\n",
       "      <td>2019-11-30 00:00:00</td>\n",
       "      <td>2019-11-30 23:59:33</td>\n",
       "      <td>NaN</td>\n",
       "      <td>('Godsunchained', '73044643.0')</td>\n",
       "      <td>Godsunchained</td>\n",
       "      <td>Games</td>\n",
       "    </tr>\n",
       "    <tr>\n",
       "      <th>2</th>\n",
       "      <td>NaN</td>\n",
       "      <td>17107482.0</td>\n",
       "      <td>0x92672baf5e9e23de230dee8e57ddf443ab6d5a336341...</td>\n",
       "      <td>0x76481caa104b5f6bccb540dae4cefaf1c398ebea</td>\n",
       "      <td>NaN</td>\n",
       "      <td>0xe0fb7622091e3d9ef9b438471b10b9ea88c7cf6b</td>\n",
       "      <td>NaN</td>\n",
       "      <td>https://card.godsunchained.com/?id=33&amp;q=4</td>\n",
       "      <td>NaN</td>\n",
       "      <td>NaN</td>\n",
       "      <td>...</td>\n",
       "      <td>NaN</td>\n",
       "      <td>NaN</td>\n",
       "      <td>Godsunchained</td>\n",
       "      <td>Godsunchained</td>\n",
       "      <td>2019-11-30 00:00:00</td>\n",
       "      <td>2019-11-30 23:59:33</td>\n",
       "      <td>NaN</td>\n",
       "      <td>('Godsunchained', '17107482.0')</td>\n",
       "      <td>Godsunchained</td>\n",
       "      <td>Games</td>\n",
       "    </tr>\n",
       "    <tr>\n",
       "      <th>3</th>\n",
       "      <td>NaN</td>\n",
       "      <td>82230857.0</td>\n",
       "      <td>0x3d157249e3083622c2d756f07a05caa3a76687288b32...</td>\n",
       "      <td>0x76481caa104b5f6bccb540dae4cefaf1c398ebea</td>\n",
       "      <td>NaN</td>\n",
       "      <td>0x2c00d05ff7ffe93d77145dfe12aa56e622ae6f40</td>\n",
       "      <td>NaN</td>\n",
       "      <td>https://card.godsunchained.com/?id=227&amp;q=4</td>\n",
       "      <td>NaN</td>\n",
       "      <td>NaN</td>\n",
       "      <td>...</td>\n",
       "      <td>NaN</td>\n",
       "      <td>NaN</td>\n",
       "      <td>Godsunchained</td>\n",
       "      <td>Godsunchained</td>\n",
       "      <td>2019-11-30 00:00:00</td>\n",
       "      <td>2019-11-30 23:59:33</td>\n",
       "      <td>NaN</td>\n",
       "      <td>('Godsunchained', '82230857.0')</td>\n",
       "      <td>Godsunchained</td>\n",
       "      <td>Games</td>\n",
       "    </tr>\n",
       "    <tr>\n",
       "      <th>4</th>\n",
       "      <td>NaN</td>\n",
       "      <td>40925443.0</td>\n",
       "      <td>0xa892b3569dc8e6b3c7db93aade62372637ebbc61fb63...</td>\n",
       "      <td>0x76481caa104b5f6bccb540dae4cefaf1c398ebea</td>\n",
       "      <td>NaN</td>\n",
       "      <td>0x2c00d05ff7ffe93d77145dfe12aa56e622ae6f40</td>\n",
       "      <td>NaN</td>\n",
       "      <td>https://card.godsunchained.com/?id=62&amp;q=4</td>\n",
       "      <td>NaN</td>\n",
       "      <td>NaN</td>\n",
       "      <td>...</td>\n",
       "      <td>NaN</td>\n",
       "      <td>NaN</td>\n",
       "      <td>Godsunchained</td>\n",
       "      <td>Godsunchained</td>\n",
       "      <td>2019-11-30 00:00:00</td>\n",
       "      <td>2019-11-30 23:58:44</td>\n",
       "      <td>NaN</td>\n",
       "      <td>('Godsunchained', '40925443.0')</td>\n",
       "      <td>Godsunchained</td>\n",
       "      <td>Games</td>\n",
       "    </tr>\n",
       "  </tbody>\n",
       "</table>\n",
       "<p>5 rows × 24 columns</p>\n",
       "</div>"
      ],
      "text/plain": [
       "  Smart_contract    ID_token  \\\n",
       "0            NaN  87094722.0   \n",
       "1            NaN  73044643.0   \n",
       "2            NaN  17107482.0   \n",
       "3            NaN  82230857.0   \n",
       "4            NaN  40925443.0   \n",
       "\n",
       "                                    Transaction_hash  \\\n",
       "0  0xed9ff1c311a611e5c457ce0a49bbbb7ed55efca98842...   \n",
       "1  0xbc8412594ffa7382e8306215ece5b4e041fc641b1813...   \n",
       "2  0x92672baf5e9e23de230dee8e57ddf443ab6d5a336341...   \n",
       "3  0x3d157249e3083622c2d756f07a05caa3a76687288b32...   \n",
       "4  0xa892b3569dc8e6b3c7db93aade62372637ebbc61fb63...   \n",
       "\n",
       "                               Seller_address Seller_username  \\\n",
       "0  0x76481caa104b5f6bccb540dae4cefaf1c398ebea             NaN   \n",
       "1  0x76481caa104b5f6bccb540dae4cefaf1c398ebea             NaN   \n",
       "2  0x76481caa104b5f6bccb540dae4cefaf1c398ebea             NaN   \n",
       "3  0x76481caa104b5f6bccb540dae4cefaf1c398ebea             NaN   \n",
       "4  0x76481caa104b5f6bccb540dae4cefaf1c398ebea             NaN   \n",
       "\n",
       "                                Buyer_address Buyer_username  \\\n",
       "0  0xe0fb7622091e3d9ef9b438471b10b9ea88c7cf6b            NaN   \n",
       "1  0x2c00d05ff7ffe93d77145dfe12aa56e622ae6f40            NaN   \n",
       "2  0xe0fb7622091e3d9ef9b438471b10b9ea88c7cf6b            NaN   \n",
       "3  0x2c00d05ff7ffe93d77145dfe12aa56e622ae6f40            NaN   \n",
       "4  0x2c00d05ff7ffe93d77145dfe12aa56e622ae6f40            NaN   \n",
       "\n",
       "                                  Image_url_1 Image_url_2 Image_url_3  ...  \\\n",
       "0   https://card.godsunchained.com/?id=33&q=4         NaN         NaN  ...   \n",
       "1   https://card.godsunchained.com/?id=79&q=4         NaN         NaN  ...   \n",
       "2   https://card.godsunchained.com/?id=33&q=4         NaN         NaN  ...   \n",
       "3  https://card.godsunchained.com/?id=227&q=4         NaN         NaN  ...   \n",
       "4   https://card.godsunchained.com/?id=62&q=4         NaN         NaN  ...   \n",
       "\n",
       "  Name  Description     Collection         Market     Datetime_updated  \\\n",
       "0  NaN          NaN  Godsunchained  Godsunchained  2019-11-30 00:00:00   \n",
       "1  NaN          NaN  Godsunchained  Godsunchained  2019-11-30 00:00:00   \n",
       "2  NaN          NaN  Godsunchained  Godsunchained  2019-11-30 00:00:00   \n",
       "3  NaN          NaN  Godsunchained  Godsunchained  2019-11-30 00:00:00   \n",
       "4  NaN          NaN  Godsunchained  Godsunchained  2019-11-30 00:00:00   \n",
       "\n",
       "  Datetime_updated_seconds Permanent_link             Unique_id_collection  \\\n",
       "0      2019-11-30 23:59:33            NaN  ('Godsunchained', '87094722.0')   \n",
       "1      2019-11-30 23:59:33            NaN  ('Godsunchained', '73044643.0')   \n",
       "2      2019-11-30 23:59:33            NaN  ('Godsunchained', '17107482.0')   \n",
       "3      2019-11-30 23:59:33            NaN  ('Godsunchained', '82230857.0')   \n",
       "4      2019-11-30 23:58:44            NaN  ('Godsunchained', '40925443.0')   \n",
       "\n",
       "  Collection_cleaned Category  \n",
       "0      Godsunchained    Games  \n",
       "1      Godsunchained    Games  \n",
       "2      Godsunchained    Games  \n",
       "3      Godsunchained    Games  \n",
       "4      Godsunchained    Games  \n",
       "\n",
       "[5 rows x 24 columns]"
      ]
     },
     "execution_count": 1,
     "metadata": {},
     "output_type": "execute_result"
    }
   ],
   "source": [
    "import pandas as pd\n",
    "\n",
    "data = pd.read_csv(r'C:\\Users\\12138\\Desktop\\NFT Data\\Data_API.csv')\n",
    "\n",
    "# Generating the starting 5 entries in the data \n",
    "data_top= data.head()\n",
    "data_top"
   ]
  },
  {
   "cell_type": "code",
   "execution_count": 2,
   "id": "a6a97a20",
   "metadata": {},
   "outputs": [
    {
     "data": {
      "text/plain": [
       "(6071027, 24)"
      ]
     },
     "execution_count": 2,
     "metadata": {},
     "output_type": "execute_result"
    }
   ],
   "source": [
    "# Number of rows and columns in the data\n",
    "data.shape"
   ]
  },
  {
   "cell_type": "markdown",
   "id": "afe11411",
   "metadata": {},
   "source": [
    "### Filtering the data to get all NFT transactions in the OpenSea marketplace"
   ]
  },
  {
   "cell_type": "code",
   "execution_count": 3,
   "id": "4277cb6a",
   "metadata": {
    "scrolled": true
   },
   "outputs": [
    {
     "data": {
      "text/html": [
       "<div>\n",
       "<style scoped>\n",
       "    .dataframe tbody tr th:only-of-type {\n",
       "        vertical-align: middle;\n",
       "    }\n",
       "\n",
       "    .dataframe tbody tr th {\n",
       "        vertical-align: top;\n",
       "    }\n",
       "\n",
       "    .dataframe thead th {\n",
       "        text-align: right;\n",
       "    }\n",
       "</style>\n",
       "<table border=\"1\" class=\"dataframe\">\n",
       "  <thead>\n",
       "    <tr style=\"text-align: right;\">\n",
       "      <th></th>\n",
       "      <th>Smart_contract</th>\n",
       "      <th>ID_token</th>\n",
       "      <th>Transaction_hash</th>\n",
       "      <th>Seller_address</th>\n",
       "      <th>Seller_username</th>\n",
       "      <th>Buyer_address</th>\n",
       "      <th>Buyer_username</th>\n",
       "      <th>Image_url_1</th>\n",
       "      <th>Image_url_2</th>\n",
       "      <th>Image_url_3</th>\n",
       "      <th>...</th>\n",
       "      <th>Name</th>\n",
       "      <th>Description</th>\n",
       "      <th>Collection</th>\n",
       "      <th>Market</th>\n",
       "      <th>Datetime_updated</th>\n",
       "      <th>Datetime_updated_seconds</th>\n",
       "      <th>Permanent_link</th>\n",
       "      <th>Unique_id_collection</th>\n",
       "      <th>Collection_cleaned</th>\n",
       "      <th>Category</th>\n",
       "    </tr>\n",
       "  </thead>\n",
       "  <tbody>\n",
       "    <tr>\n",
       "      <th>4163765</th>\n",
       "      <td>0x06012c8cf97bead5deae237070f9587f8e7a266d</td>\n",
       "      <td>570964</td>\n",
       "      <td>0xb9fa19b74de10a091c53043aa9f9d84c3233366a0abf...</td>\n",
       "      <td>0xa21037849678af57f9865c6b9887f4e339f6377a</td>\n",
       "      <td>NaN</td>\n",
       "      <td>0x442dccee68425828c106a3662014b4f131e3bd9b</td>\n",
       "      <td>j1mmy</td>\n",
       "      <td>https://lh3.googleusercontent.com/QHS7oRZx3hnv...</td>\n",
       "      <td>https://img.cryptokitties.co/0x06012c8cf97bead...</td>\n",
       "      <td>https://lh3.googleusercontent.com/QHS7oRZx3hnv...</td>\n",
       "      <td>...</td>\n",
       "      <td>Wiley Breeder</td>\n",
       "      <td>Shalom! Wiley Breeder here. I'm here to enjoy ...</td>\n",
       "      <td>Cryptokitties</td>\n",
       "      <td>OpenSea</td>\n",
       "      <td>2018-03-01 00:00:00</td>\n",
       "      <td>2018-03-01 00:01:30</td>\n",
       "      <td>https://opensea.io/assets/0x06012c8cf97bead5de...</td>\n",
       "      <td>('Cryptokitties', '570964')</td>\n",
       "      <td>Cryptokittie</td>\n",
       "      <td>Art</td>\n",
       "    </tr>\n",
       "    <tr>\n",
       "      <th>4163766</th>\n",
       "      <td>0x06012c8cf97bead5deae237070f9587f8e7a266d</td>\n",
       "      <td>553057</td>\n",
       "      <td>0x1e886781c29a6fa6cb02d5b5407a125194930b9cd20e...</td>\n",
       "      <td>0x491677edd34020bf644fd63b5d65113fb3b74b10</td>\n",
       "      <td>NaN</td>\n",
       "      <td>0xf165d353abddb7cb00052d610254249fcc12a8c7</td>\n",
       "      <td>cyberberry</td>\n",
       "      <td>https://storage.opensea.io/0x06012c8cf97bead5d...</td>\n",
       "      <td>https://img.cryptokitties.co/0x06012c8cf97bead...</td>\n",
       "      <td>https://storage.opensea.io/0x06012c8cf97bead5d...</td>\n",
       "      <td>...</td>\n",
       "      <td>NaN</td>\n",
       "      <td>*deadpan stare*. I'm Kitty #553057. If you als...</td>\n",
       "      <td>Cryptokitties</td>\n",
       "      <td>OpenSea</td>\n",
       "      <td>2018-03-01 00:00:00</td>\n",
       "      <td>2018-03-01 00:00:01</td>\n",
       "      <td>https://opensea.io/assets/0x06012c8cf97bead5de...</td>\n",
       "      <td>('Cryptokitties', '553057')</td>\n",
       "      <td>Cryptokittie</td>\n",
       "      <td>Art</td>\n",
       "    </tr>\n",
       "    <tr>\n",
       "      <th>4163767</th>\n",
       "      <td>0x06012c8cf97bead5deae237070f9587f8e7a266d</td>\n",
       "      <td>422030</td>\n",
       "      <td>0x7bb2f01c8d30383927ba677efb0ead9a3d796e8bdf24...</td>\n",
       "      <td>0xe357cbc0a5dfa4c238b769d065416d15fb56d8f9</td>\n",
       "      <td>NaN</td>\n",
       "      <td>0x24a6f141b18f27f65a1ba8b49e2d975d18e1a259</td>\n",
       "      <td>NaN</td>\n",
       "      <td>https://storage.opensea.io/0x06012c8cf97bead5d...</td>\n",
       "      <td>https://img.cryptokitties.co/0x06012c8cf97bead...</td>\n",
       "      <td>https://storage.opensea.io/0x06012c8cf97bead5d...</td>\n",
       "      <td>...</td>\n",
       "      <td>Wolfgrey breeder</td>\n",
       "      <td>Shalom! I'm Wolfgrey breeder. In high school, ...</td>\n",
       "      <td>Cryptokitties</td>\n",
       "      <td>OpenSea</td>\n",
       "      <td>2018-02-28 00:00:00</td>\n",
       "      <td>2018-02-28 23:59:19</td>\n",
       "      <td>https://opensea.io/assets/0x06012c8cf97bead5de...</td>\n",
       "      <td>('Cryptokitties', '422030')</td>\n",
       "      <td>Cryptokittie</td>\n",
       "      <td>Art</td>\n",
       "    </tr>\n",
       "    <tr>\n",
       "      <th>4163768</th>\n",
       "      <td>0x06012c8cf97bead5deae237070f9587f8e7a266d</td>\n",
       "      <td>551265</td>\n",
       "      <td>0x78dfb2e6f8fd82f811eddbbc495bf7e0206284c85244...</td>\n",
       "      <td>0xc4d4672f651bf72414be1f828952480ccf0b2a8f</td>\n",
       "      <td>NaN</td>\n",
       "      <td>0x5b897d015dbb2661e1fd4a0df68322dfaec6ea14</td>\n",
       "      <td>NaN</td>\n",
       "      <td>https://storage.opensea.io/0x06012c8cf97bead5d...</td>\n",
       "      <td>https://img.cryptokitties.co/0x06012c8cf97bead...</td>\n",
       "      <td>https://storage.opensea.io/0x06012c8cf97bead5d...</td>\n",
       "      <td>...</td>\n",
       "      <td>🔥Flamin' Forrest Lord🔥</td>\n",
       "      <td>G'day! I'm 🔥Flamin' Forrest Lord🔥. All you nee...</td>\n",
       "      <td>Cryptokitties</td>\n",
       "      <td>OpenSea</td>\n",
       "      <td>2018-02-28 00:00:00</td>\n",
       "      <td>2018-02-28 23:55:17</td>\n",
       "      <td>https://opensea.io/assets/0x06012c8cf97bead5de...</td>\n",
       "      <td>('Cryptokitties', '551265')</td>\n",
       "      <td>Cryptokittie</td>\n",
       "      <td>Art</td>\n",
       "    </tr>\n",
       "    <tr>\n",
       "      <th>4163769</th>\n",
       "      <td>0x06012c8cf97bead5deae237070f9587f8e7a266d</td>\n",
       "      <td>561824</td>\n",
       "      <td>0xf465d5c0736e522b152c380331d45c0886d0e17eadb6...</td>\n",
       "      <td>0x7045540552d1fcc2ab1eb64e1f868aeb490606fa</td>\n",
       "      <td>stealtime</td>\n",
       "      <td>0xb58092199e8b47bd9e27533d9504282eb802c446</td>\n",
       "      <td>NaN</td>\n",
       "      <td>https://storage.opensea.io/0x06012c8cf97bead5d...</td>\n",
       "      <td>https://img.cryptokitties.co/0x06012c8cf97bead...</td>\n",
       "      <td>https://storage.opensea.io/0x06012c8cf97bead5d...</td>\n",
       "      <td>...</td>\n",
       "      <td>NaN</td>\n",
       "      <td>Sup. I'm Kitty #561824. My friends describe me...</td>\n",
       "      <td>Cryptokitties</td>\n",
       "      <td>OpenSea</td>\n",
       "      <td>2018-02-28 00:00:00</td>\n",
       "      <td>2018-02-28 23:54:07</td>\n",
       "      <td>https://opensea.io/assets/0x06012c8cf97bead5de...</td>\n",
       "      <td>('Cryptokitties', '561824')</td>\n",
       "      <td>Cryptokittie</td>\n",
       "      <td>Art</td>\n",
       "    </tr>\n",
       "  </tbody>\n",
       "</table>\n",
       "<p>5 rows × 24 columns</p>\n",
       "</div>"
      ],
      "text/plain": [
       "                                     Smart_contract ID_token  \\\n",
       "4163765  0x06012c8cf97bead5deae237070f9587f8e7a266d   570964   \n",
       "4163766  0x06012c8cf97bead5deae237070f9587f8e7a266d   553057   \n",
       "4163767  0x06012c8cf97bead5deae237070f9587f8e7a266d   422030   \n",
       "4163768  0x06012c8cf97bead5deae237070f9587f8e7a266d   551265   \n",
       "4163769  0x06012c8cf97bead5deae237070f9587f8e7a266d   561824   \n",
       "\n",
       "                                          Transaction_hash  \\\n",
       "4163765  0xb9fa19b74de10a091c53043aa9f9d84c3233366a0abf...   \n",
       "4163766  0x1e886781c29a6fa6cb02d5b5407a125194930b9cd20e...   \n",
       "4163767  0x7bb2f01c8d30383927ba677efb0ead9a3d796e8bdf24...   \n",
       "4163768  0x78dfb2e6f8fd82f811eddbbc495bf7e0206284c85244...   \n",
       "4163769  0xf465d5c0736e522b152c380331d45c0886d0e17eadb6...   \n",
       "\n",
       "                                     Seller_address Seller_username  \\\n",
       "4163765  0xa21037849678af57f9865c6b9887f4e339f6377a             NaN   \n",
       "4163766  0x491677edd34020bf644fd63b5d65113fb3b74b10             NaN   \n",
       "4163767  0xe357cbc0a5dfa4c238b769d065416d15fb56d8f9             NaN   \n",
       "4163768  0xc4d4672f651bf72414be1f828952480ccf0b2a8f             NaN   \n",
       "4163769  0x7045540552d1fcc2ab1eb64e1f868aeb490606fa       stealtime   \n",
       "\n",
       "                                      Buyer_address Buyer_username  \\\n",
       "4163765  0x442dccee68425828c106a3662014b4f131e3bd9b          j1mmy   \n",
       "4163766  0xf165d353abddb7cb00052d610254249fcc12a8c7     cyberberry   \n",
       "4163767  0x24a6f141b18f27f65a1ba8b49e2d975d18e1a259            NaN   \n",
       "4163768  0x5b897d015dbb2661e1fd4a0df68322dfaec6ea14            NaN   \n",
       "4163769  0xb58092199e8b47bd9e27533d9504282eb802c446            NaN   \n",
       "\n",
       "                                               Image_url_1  \\\n",
       "4163765  https://lh3.googleusercontent.com/QHS7oRZx3hnv...   \n",
       "4163766  https://storage.opensea.io/0x06012c8cf97bead5d...   \n",
       "4163767  https://storage.opensea.io/0x06012c8cf97bead5d...   \n",
       "4163768  https://storage.opensea.io/0x06012c8cf97bead5d...   \n",
       "4163769  https://storage.opensea.io/0x06012c8cf97bead5d...   \n",
       "\n",
       "                                               Image_url_2  \\\n",
       "4163765  https://img.cryptokitties.co/0x06012c8cf97bead...   \n",
       "4163766  https://img.cryptokitties.co/0x06012c8cf97bead...   \n",
       "4163767  https://img.cryptokitties.co/0x06012c8cf97bead...   \n",
       "4163768  https://img.cryptokitties.co/0x06012c8cf97bead...   \n",
       "4163769  https://img.cryptokitties.co/0x06012c8cf97bead...   \n",
       "\n",
       "                                               Image_url_3  ...  \\\n",
       "4163765  https://lh3.googleusercontent.com/QHS7oRZx3hnv...  ...   \n",
       "4163766  https://storage.opensea.io/0x06012c8cf97bead5d...  ...   \n",
       "4163767  https://storage.opensea.io/0x06012c8cf97bead5d...  ...   \n",
       "4163768  https://storage.opensea.io/0x06012c8cf97bead5d...  ...   \n",
       "4163769  https://storage.opensea.io/0x06012c8cf97bead5d...  ...   \n",
       "\n",
       "                           Name  \\\n",
       "4163765           Wiley Breeder   \n",
       "4163766                     NaN   \n",
       "4163767        Wolfgrey breeder   \n",
       "4163768  🔥Flamin' Forrest Lord🔥   \n",
       "4163769                     NaN   \n",
       "\n",
       "                                               Description     Collection  \\\n",
       "4163765  Shalom! Wiley Breeder here. I'm here to enjoy ...  Cryptokitties   \n",
       "4163766  *deadpan stare*. I'm Kitty #553057. If you als...  Cryptokitties   \n",
       "4163767  Shalom! I'm Wolfgrey breeder. In high school, ...  Cryptokitties   \n",
       "4163768  G'day! I'm 🔥Flamin' Forrest Lord🔥. All you nee...  Cryptokitties   \n",
       "4163769  Sup. I'm Kitty #561824. My friends describe me...  Cryptokitties   \n",
       "\n",
       "          Market     Datetime_updated Datetime_updated_seconds  \\\n",
       "4163765  OpenSea  2018-03-01 00:00:00      2018-03-01 00:01:30   \n",
       "4163766  OpenSea  2018-03-01 00:00:00      2018-03-01 00:00:01   \n",
       "4163767  OpenSea  2018-02-28 00:00:00      2018-02-28 23:59:19   \n",
       "4163768  OpenSea  2018-02-28 00:00:00      2018-02-28 23:55:17   \n",
       "4163769  OpenSea  2018-02-28 00:00:00      2018-02-28 23:54:07   \n",
       "\n",
       "                                            Permanent_link  \\\n",
       "4163765  https://opensea.io/assets/0x06012c8cf97bead5de...   \n",
       "4163766  https://opensea.io/assets/0x06012c8cf97bead5de...   \n",
       "4163767  https://opensea.io/assets/0x06012c8cf97bead5de...   \n",
       "4163768  https://opensea.io/assets/0x06012c8cf97bead5de...   \n",
       "4163769  https://opensea.io/assets/0x06012c8cf97bead5de...   \n",
       "\n",
       "                Unique_id_collection Collection_cleaned Category  \n",
       "4163765  ('Cryptokitties', '570964')       Cryptokittie      Art  \n",
       "4163766  ('Cryptokitties', '553057')       Cryptokittie      Art  \n",
       "4163767  ('Cryptokitties', '422030')       Cryptokittie      Art  \n",
       "4163768  ('Cryptokitties', '551265')       Cryptokittie      Art  \n",
       "4163769  ('Cryptokitties', '561824')       Cryptokittie      Art  \n",
       "\n",
       "[5 rows x 24 columns]"
      ]
     },
     "execution_count": 3,
     "metadata": {},
     "output_type": "execute_result"
    }
   ],
   "source": [
    "opensea= data[data.Market.isin(['OpenSea'])]\n",
    "opensea.head()"
   ]
  },
  {
   "cell_type": "code",
   "execution_count": 4,
   "id": "2acf9ea7",
   "metadata": {},
   "outputs": [
    {
     "data": {
      "text/plain": [
       "(1907262, 24)"
      ]
     },
     "execution_count": 4,
     "metadata": {},
     "output_type": "execute_result"
    }
   ],
   "source": [
    "# Number of rows and columns in the OpenSea data\n",
    "opensea.shape"
   ]
  },
  {
   "cell_type": "markdown",
   "id": "cb7f929d",
   "metadata": {},
   "source": [
    "### Starting and Ending Date for the transactions "
   ]
  },
  {
   "cell_type": "code",
   "execution_count": 5,
   "id": "79672744",
   "metadata": {},
   "outputs": [
    {
     "data": {
      "text/plain": [
       "'2018-02-04 06:33:49'"
      ]
     },
     "execution_count": 5,
     "metadata": {},
     "output_type": "execute_result"
    }
   ],
   "source": [
    "opensea['Datetime_updated_seconds'].min() "
   ]
  },
  {
   "cell_type": "code",
   "execution_count": 6,
   "id": "629e6c9d",
   "metadata": {},
   "outputs": [
    {
     "data": {
      "text/plain": [
       "'2021-04-27 23:59:51'"
      ]
     },
     "execution_count": 6,
     "metadata": {},
     "output_type": "execute_result"
    }
   ],
   "source": [
    "opensea['Datetime_updated_seconds'].max()"
   ]
  },
  {
   "cell_type": "markdown",
   "id": "1a298478",
   "metadata": {},
   "source": [
    "### Names of different columns present in the data "
   ]
  },
  {
   "cell_type": "code",
   "execution_count": 7,
   "id": "aa0e9f5d",
   "metadata": {
    "scrolled": true
   },
   "outputs": [
    {
     "data": {
      "text/plain": [
       "Index(['Smart_contract', 'ID_token', 'Transaction_hash', 'Seller_address',\n",
       "       'Seller_username', 'Buyer_address', 'Buyer_username', 'Image_url_1',\n",
       "       'Image_url_2', 'Image_url_3', 'Image_url_4', 'Price_Crypto', 'Crypto',\n",
       "       'Price_USD', 'Name', 'Description', 'Collection', 'Market',\n",
       "       'Datetime_updated', 'Datetime_updated_seconds', 'Permanent_link',\n",
       "       'Unique_id_collection', 'Collection_cleaned', 'Category'],\n",
       "      dtype='object')"
      ]
     },
     "execution_count": 7,
     "metadata": {},
     "output_type": "execute_result"
    }
   ],
   "source": [
    "opensea.columns"
   ]
  },
  {
   "cell_type": "markdown",
   "id": "2fc4a466",
   "metadata": {},
   "source": [
    "### Types of unique crypto amd categories present"
   ]
  },
  {
   "cell_type": "code",
   "execution_count": 8,
   "id": "0a825d91",
   "metadata": {},
   "outputs": [
    {
     "data": {
      "text/plain": [
       "array(['ETH', 'MANA', 'WETH', 'BZN', 'USDC', 'SAI', 'EMONT', 'IMP', 'NVT',\n",
       "       'LESS', 'GUSD', 'ENJ', 'ELET', 'WCK', 'GPL', 'WMC', 'WAXIE',\n",
       "       'OLDWZX', 'OLDWAXIE', 'BLVD', 'MBC', 'HUE', 'DAPPT', 'SKULL',\n",
       "       'CUBE', 'DAI', 'MATIC', 'GOU', 'BON', 'YUMI', 'SLP', 'BAT', 'LIT',\n",
       "       'MX', '0xBTC', 'CURIO', 'BPC', 'HIVED', 'HOUR', 'MM', 'WGM', 'KOI',\n",
       "       'RCC', 'JBG', '1MT', 'GCASH', 'PYRO', 'MNFT', 'KIWI', 'DOOM',\n",
       "       'AMPL', 'DUST', 'VSF', 'GMX', 'BUDGET', 'FRFY', 'CPT', 'CHERRY',\n",
       "       'NEWS', 'MORK', 'GOOSE', 'RCDY', 'ARCONA', 'PIXEL', 'SAL', 'DGX',\n",
       "       'RARE', 'WAIF', 'FTHR', 'MEME', 'SAND', 'UNI', 'GALA', 'COIN',\n",
       "       'BONES', 'MCX', 'RAINBOW', 'COVAL', 'ROPE', 'TRSH', 'VI', 'WIPC',\n",
       "       'BOOB', 'ECTO', 'INK', 'LINK', 'KEK-DEP', 'FIRST', 'SWAG', 'GEM',\n",
       "       'GOKU', 'RODZ', 'VEGETA', 'ABST', 'TATR', 'EPIC', 'LOAD', 'CAMEL',\n",
       "       'FUD', 'CRED', 'DDIM', 'KLTR', 'BAEPAY', 'eFAME', 'KEK', 'KING',\n",
       "       'PPDEX', 'SURF', 'TRIP', 'LAR', 'PRIME', 'JGN', 'RUGZ', 'BASED',\n",
       "       'PXART', 'WBTC', 'REVV', 'DENA', 'SMTS', 'EGGS', 'VIDEO', 'EBB',\n",
       "       'DHC', 'MGDv2', 'ATRI', 'ZURU', 'ART', 'TRISM', 'AVRT', 'THREE',\n",
       "       '2XDN', 'B0T', 'PGU', 'ELAND', 'BORG', 'YGT', 'NUGS', 'ECAT',\n",
       "       'FTM', 'ASLT', 'KAP', 'NDR', 'RARI', 'BONDLY', 'PLAY', 'CHONK',\n",
       "       'ROT', 'VIDT', 'XMON', 'BUDZ', 'MKR', 'ANRX', 'CGG', 'PMON', 'RLY',\n",
       "       'INI', 'ZUT', 'ZIOT', 'PIXIE'], dtype=object)"
      ]
     },
     "execution_count": 8,
     "metadata": {},
     "output_type": "execute_result"
    }
   ],
   "source": [
    "opensea['Crypto'].unique()"
   ]
  },
  {
   "cell_type": "code",
   "execution_count": 9,
   "id": "2568378f",
   "metadata": {},
   "outputs": [
    {
     "name": "stdout",
     "output_type": "stream",
     "text": [
      "There are 159 types of cryptocurrencies present in the data\n"
     ]
    }
   ],
   "source": [
    "print(\"There are\", len(opensea['Crypto'].unique()),\"types of cryptocurrencies present in the data\")"
   ]
  },
  {
   "cell_type": "code",
   "execution_count": 10,
   "id": "10cca98e",
   "metadata": {},
   "outputs": [
    {
     "data": {
      "text/plain": [
       "array(['Art', 'Other', 'Collectible', 'Games', 'Metaverse', 'Utility'],\n",
       "      dtype=object)"
      ]
     },
     "execution_count": 10,
     "metadata": {},
     "output_type": "execute_result"
    }
   ],
   "source": [
    "# Types of categories\n",
    "opensea['Category'].unique()"
   ]
  },
  {
   "cell_type": "markdown",
   "id": "8e939f2c",
   "metadata": {},
   "source": [
    "### Unique values in different types of categories"
   ]
  },
  {
   "cell_type": "code",
   "execution_count": 11,
   "id": "4efbb7f0",
   "metadata": {},
   "outputs": [
    {
     "data": {
      "text/plain": [
       "Games          2643014\n",
       "Collectible    1605657\n",
       "Art            1472515\n",
       "Other           272772\n",
       "Metaverse        68372\n",
       "Utility           8697\n",
       "Name: Category, dtype: int64"
      ]
     },
     "execution_count": 11,
     "metadata": {},
     "output_type": "execute_result"
    }
   ],
   "source": [
    "# For the entire data\n",
    "pd.value_counts(data.Category)"
   ]
  },
  {
   "cell_type": "code",
   "execution_count": 12,
   "id": "ec62f8ea",
   "metadata": {
    "scrolled": true
   },
   "outputs": [
    {
     "data": {
      "text/plain": [
       "Games          749306\n",
       "Art            633493\n",
       "Collectible    380269\n",
       "Other           94482\n",
       "Metaverse       41031\n",
       "Utility          8681\n",
       "Name: Category, dtype: int64"
      ]
     },
     "execution_count": 12,
     "metadata": {},
     "output_type": "execute_result"
    }
   ],
   "source": [
    "# For the opensea data\n",
    "pd.value_counts(opensea.Category)"
   ]
  },
  {
   "cell_type": "markdown",
   "id": "3fe29635",
   "metadata": {},
   "source": [
    "### Misc "
   ]
  },
  {
   "cell_type": "code",
   "execution_count": 13,
   "id": "b192f410",
   "metadata": {},
   "outputs": [
    {
     "data": {
      "text/plain": [
       "Smart_contract                    0\n",
       "ID_token                          0\n",
       "Transaction_hash                  0\n",
       "Seller_address                    0\n",
       "Seller_username              814008\n",
       "Buyer_address                     0\n",
       "Buyer_username              1014399\n",
       "Image_url_1                    2917\n",
       "Image_url_2                   92526\n",
       "Image_url_3                    2834\n",
       "Image_url_4                    7446\n",
       "Price_Crypto                      0\n",
       "Crypto                            0\n",
       "Price_USD                      7935\n",
       "Name                          55298\n",
       "Description                  176533\n",
       "Collection                        0\n",
       "Market                            0\n",
       "Datetime_updated                  0\n",
       "Datetime_updated_seconds          0\n",
       "Permanent_link                    0\n",
       "Unique_id_collection              0\n",
       "Collection_cleaned                0\n",
       "Category                          0\n",
       "dtype: int64"
      ]
     },
     "execution_count": 13,
     "metadata": {},
     "output_type": "execute_result"
    }
   ],
   "source": [
    "opensea.isnull().sum()"
   ]
  },
  {
   "cell_type": "code",
   "execution_count": 14,
   "id": "83c8746d",
   "metadata": {},
   "outputs": [
    {
     "data": {
      "text/html": [
       "<div>\n",
       "<style scoped>\n",
       "    .dataframe tbody tr th:only-of-type {\n",
       "        vertical-align: middle;\n",
       "    }\n",
       "\n",
       "    .dataframe tbody tr th {\n",
       "        vertical-align: top;\n",
       "    }\n",
       "\n",
       "    .dataframe thead th {\n",
       "        text-align: right;\n",
       "    }\n",
       "</style>\n",
       "<table border=\"1\" class=\"dataframe\">\n",
       "  <thead>\n",
       "    <tr style=\"text-align: right;\">\n",
       "      <th></th>\n",
       "      <th>Price_Crypto</th>\n",
       "      <th>Price_USD</th>\n",
       "    </tr>\n",
       "  </thead>\n",
       "  <tbody>\n",
       "    <tr>\n",
       "      <th>count</th>\n",
       "      <td>1.907262e+06</td>\n",
       "      <td>1.899327e+06</td>\n",
       "    </tr>\n",
       "    <tr>\n",
       "      <th>mean</th>\n",
       "      <td>1.825746e+03</td>\n",
       "      <td>4.189769e+02</td>\n",
       "    </tr>\n",
       "    <tr>\n",
       "      <th>std</th>\n",
       "      <td>2.172536e+06</td>\n",
       "      <td>9.766780e+03</td>\n",
       "    </tr>\n",
       "    <tr>\n",
       "      <th>min</th>\n",
       "      <td>0.000000e+00</td>\n",
       "      <td>2.264600e-16</td>\n",
       "    </tr>\n",
       "    <tr>\n",
       "      <th>25%</th>\n",
       "      <td>5.000000e-03</td>\n",
       "      <td>1.146930e+00</td>\n",
       "    </tr>\n",
       "    <tr>\n",
       "      <th>50%</th>\n",
       "      <td>3.298903e-02</td>\n",
       "      <td>1.372035e+01</td>\n",
       "    </tr>\n",
       "    <tr>\n",
       "      <th>75%</th>\n",
       "      <td>1.250000e-01</td>\n",
       "      <td>8.522910e+01</td>\n",
       "    </tr>\n",
       "    <tr>\n",
       "      <th>max</th>\n",
       "      <td>3.000000e+09</td>\n",
       "      <td>7.501893e+06</td>\n",
       "    </tr>\n",
       "  </tbody>\n",
       "</table>\n",
       "</div>"
      ],
      "text/plain": [
       "       Price_Crypto     Price_USD\n",
       "count  1.907262e+06  1.899327e+06\n",
       "mean   1.825746e+03  4.189769e+02\n",
       "std    2.172536e+06  9.766780e+03\n",
       "min    0.000000e+00  2.264600e-16\n",
       "25%    5.000000e-03  1.146930e+00\n",
       "50%    3.298903e-02  1.372035e+01\n",
       "75%    1.250000e-01  8.522910e+01\n",
       "max    3.000000e+09  7.501893e+06"
      ]
     },
     "execution_count": 14,
     "metadata": {},
     "output_type": "execute_result"
    }
   ],
   "source": [
    "opensea.describe()"
   ]
  },
  {
   "cell_type": "code",
   "execution_count": 87,
   "id": "57058d64",
   "metadata": {},
   "outputs": [],
   "source": [
    "import matplotlib.pyplot as plt\n",
    "import pandas as pd\n",
    "import numpy as np\n",
    "import networkx as nx"
   ]
  },
  {
   "cell_type": "markdown",
   "id": "380076b4",
   "metadata": {},
   "source": [
    "<h1><center>Generation of Graphs</center></h1>"
   ]
  },
  {
   "cell_type": "markdown",
   "id": "15d33b05",
   "metadata": {},
   "source": [
    "## Asset Transfer Graph"
   ]
  },
  {
   "cell_type": "markdown",
   "id": "378ca2a6",
   "metadata": {},
   "source": [
    "For an Asset Transfer Graph, the required nodes are \"Users\" which are the combination of Sellers and Buyers, which in the OpenSea data is defined by the columns \"Seller_address\" and \"Buyer_address\". Further, the edges for the asset transfer graph are annotated with property tuples of the form (a), which in our case is defined by \"ID_token\". "
   ]
  },
  {
   "cell_type": "markdown",
   "id": "005adca8",
   "metadata": {},
   "source": [
    "The Asset Transfer Graph thus contains nodes in the form of users (u) and directed edges from u1 to u2 annotated with property tuples of the form (a). "
   ]
  },
  {
   "cell_type": "markdown",
   "id": "f7f75d34",
   "metadata": {},
   "source": [
    "<center>Filtering the OpenSea data according to need </center>"
   ]
  },
  {
   "cell_type": "code",
   "execution_count": 15,
   "id": "f09b13a3",
   "metadata": {},
   "outputs": [],
   "source": [
    "opensea_transferG=opensea[['Seller_address','Buyer_address', 'ID_token']]"
   ]
  },
  {
   "cell_type": "code",
   "execution_count": 16,
   "id": "4e238ca9",
   "metadata": {},
   "outputs": [
    {
     "data": {
      "text/plain": [
       "(1907262, 3)"
      ]
     },
     "execution_count": 16,
     "metadata": {},
     "output_type": "execute_result"
    }
   ],
   "source": [
    "opensea_transferG.shape"
   ]
  },
  {
   "cell_type": "markdown",
   "id": "cdb2331e",
   "metadata": {},
   "source": [
    "<center> Creating the required Nodes </center>"
   ]
  },
  {
   "cell_type": "code",
   "execution_count": 17,
   "id": "543a63c5",
   "metadata": {},
   "outputs": [],
   "source": [
    "nodes1 = opensea_transferG['Seller_address'].tolist()"
   ]
  },
  {
   "cell_type": "code",
   "execution_count": 18,
   "id": "3dae7849",
   "metadata": {},
   "outputs": [],
   "source": [
    "nodes2 = opensea_transferG['Buyer_address'].tolist()"
   ]
  },
  {
   "cell_type": "code",
   "execution_count": 19,
   "id": "8ed4677f",
   "metadata": {},
   "outputs": [],
   "source": [
    "nodes = nodes1 + nodes2"
   ]
  },
  {
   "cell_type": "code",
   "execution_count": 20,
   "id": "29a2a7ac",
   "metadata": {
    "scrolled": true
   },
   "outputs": [
    {
     "data": {
      "text/plain": [
       "3814524"
      ]
     },
     "execution_count": 20,
     "metadata": {},
     "output_type": "execute_result"
    }
   ],
   "source": [
    "len(nodes)"
   ]
  },
  {
   "cell_type": "markdown",
   "id": "939b2c8a",
   "metadata": {},
   "source": [
    "<center> Creating the required edges </center>"
   ]
  },
  {
   "cell_type": "code",
   "execution_count": 21,
   "id": "8f2745a2",
   "metadata": {},
   "outputs": [
    {
     "name": "stderr",
     "output_type": "stream",
     "text": [
      "<ipython-input-21-aa8d01c4a9a5>:1: SettingWithCopyWarning: \n",
      "A value is trying to be set on a copy of a slice from a DataFrame.\n",
      "Try using .loc[row_indexer,col_indexer] = value instead\n",
      "\n",
      "See the caveats in the documentation: https://pandas.pydata.org/pandas-docs/stable/user_guide/indexing.html#returning-a-view-versus-a-copy\n",
      "  opensea_transferG['edge'] = list(zip(opensea_transferG.Seller_address, opensea_transferG.Buyer_address))\n"
     ]
    }
   ],
   "source": [
    "opensea_transferG['edge'] = list(zip(opensea_transferG.Seller_address, opensea_transferG.Buyer_address))"
   ]
  },
  {
   "cell_type": "code",
   "execution_count": 22,
   "id": "04094098",
   "metadata": {},
   "outputs": [],
   "source": [
    "edge = opensea_transferG['edge'].tolist()"
   ]
  },
  {
   "cell_type": "code",
   "execution_count": 23,
   "id": "e8128cca",
   "metadata": {
    "scrolled": true
   },
   "outputs": [
    {
     "data": {
      "text/html": [
       "<div>\n",
       "<style scoped>\n",
       "    .dataframe tbody tr th:only-of-type {\n",
       "        vertical-align: middle;\n",
       "    }\n",
       "\n",
       "    .dataframe tbody tr th {\n",
       "        vertical-align: top;\n",
       "    }\n",
       "\n",
       "    .dataframe thead th {\n",
       "        text-align: right;\n",
       "    }\n",
       "</style>\n",
       "<table border=\"1\" class=\"dataframe\">\n",
       "  <thead>\n",
       "    <tr style=\"text-align: right;\">\n",
       "      <th></th>\n",
       "      <th>Seller_address</th>\n",
       "      <th>Buyer_address</th>\n",
       "      <th>ID_token</th>\n",
       "      <th>edge</th>\n",
       "    </tr>\n",
       "  </thead>\n",
       "  <tbody>\n",
       "    <tr>\n",
       "      <th>4163765</th>\n",
       "      <td>0xa21037849678af57f9865c6b9887f4e339f6377a</td>\n",
       "      <td>0x442dccee68425828c106a3662014b4f131e3bd9b</td>\n",
       "      <td>570964</td>\n",
       "      <td>(0xa21037849678af57f9865c6b9887f4e339f6377a, 0...</td>\n",
       "    </tr>\n",
       "    <tr>\n",
       "      <th>4163766</th>\n",
       "      <td>0x491677edd34020bf644fd63b5d65113fb3b74b10</td>\n",
       "      <td>0xf165d353abddb7cb00052d610254249fcc12a8c7</td>\n",
       "      <td>553057</td>\n",
       "      <td>(0x491677edd34020bf644fd63b5d65113fb3b74b10, 0...</td>\n",
       "    </tr>\n",
       "    <tr>\n",
       "      <th>4163767</th>\n",
       "      <td>0xe357cbc0a5dfa4c238b769d065416d15fb56d8f9</td>\n",
       "      <td>0x24a6f141b18f27f65a1ba8b49e2d975d18e1a259</td>\n",
       "      <td>422030</td>\n",
       "      <td>(0xe357cbc0a5dfa4c238b769d065416d15fb56d8f9, 0...</td>\n",
       "    </tr>\n",
       "    <tr>\n",
       "      <th>4163768</th>\n",
       "      <td>0xc4d4672f651bf72414be1f828952480ccf0b2a8f</td>\n",
       "      <td>0x5b897d015dbb2661e1fd4a0df68322dfaec6ea14</td>\n",
       "      <td>551265</td>\n",
       "      <td>(0xc4d4672f651bf72414be1f828952480ccf0b2a8f, 0...</td>\n",
       "    </tr>\n",
       "    <tr>\n",
       "      <th>4163769</th>\n",
       "      <td>0x7045540552d1fcc2ab1eb64e1f868aeb490606fa</td>\n",
       "      <td>0xb58092199e8b47bd9e27533d9504282eb802c446</td>\n",
       "      <td>561824</td>\n",
       "      <td>(0x7045540552d1fcc2ab1eb64e1f868aeb490606fa, 0...</td>\n",
       "    </tr>\n",
       "  </tbody>\n",
       "</table>\n",
       "</div>"
      ],
      "text/plain": [
       "                                     Seller_address  \\\n",
       "4163765  0xa21037849678af57f9865c6b9887f4e339f6377a   \n",
       "4163766  0x491677edd34020bf644fd63b5d65113fb3b74b10   \n",
       "4163767  0xe357cbc0a5dfa4c238b769d065416d15fb56d8f9   \n",
       "4163768  0xc4d4672f651bf72414be1f828952480ccf0b2a8f   \n",
       "4163769  0x7045540552d1fcc2ab1eb64e1f868aeb490606fa   \n",
       "\n",
       "                                      Buyer_address ID_token  \\\n",
       "4163765  0x442dccee68425828c106a3662014b4f131e3bd9b   570964   \n",
       "4163766  0xf165d353abddb7cb00052d610254249fcc12a8c7   553057   \n",
       "4163767  0x24a6f141b18f27f65a1ba8b49e2d975d18e1a259   422030   \n",
       "4163768  0x5b897d015dbb2661e1fd4a0df68322dfaec6ea14   551265   \n",
       "4163769  0xb58092199e8b47bd9e27533d9504282eb802c446   561824   \n",
       "\n",
       "                                                      edge  \n",
       "4163765  (0xa21037849678af57f9865c6b9887f4e339f6377a, 0...  \n",
       "4163766  (0x491677edd34020bf644fd63b5d65113fb3b74b10, 0...  \n",
       "4163767  (0xe357cbc0a5dfa4c238b769d065416d15fb56d8f9, 0...  \n",
       "4163768  (0xc4d4672f651bf72414be1f828952480ccf0b2a8f, 0...  \n",
       "4163769  (0x7045540552d1fcc2ab1eb64e1f868aeb490606fa, 0...  "
      ]
     },
     "execution_count": 23,
     "metadata": {},
     "output_type": "execute_result"
    }
   ],
   "source": [
    "opensea_transferG.head()"
   ]
  },
  {
   "cell_type": "markdown",
   "id": "905732b0",
   "metadata": {},
   "source": [
    "<center> Creating the required Graph using networkx library </center>"
   ]
  },
  {
   "cell_type": "code",
   "execution_count": 26,
   "id": "b2ef32f0",
   "metadata": {},
   "outputs": [],
   "source": [
    "G = nx.Graph()"
   ]
  },
  {
   "cell_type": "code",
   "execution_count": 27,
   "id": "a1c82d58",
   "metadata": {},
   "outputs": [],
   "source": [
    "G.add_nodes_from(nodes)"
   ]
  },
  {
   "cell_type": "code",
   "execution_count": 28,
   "id": "8a92d500",
   "metadata": {},
   "outputs": [],
   "source": [
    "G.add_edges_from(edge)"
   ]
  },
  {
   "cell_type": "code",
   "execution_count": 29,
   "id": "ed76aabf",
   "metadata": {},
   "outputs": [
    {
     "data": {
      "text/plain": [
       "(214238, 949952)"
      ]
     },
     "execution_count": 29,
     "metadata": {},
     "output_type": "execute_result"
    }
   ],
   "source": [
    "G.number_of_nodes(), G.number_of_edges()\n"
   ]
  },
  {
   "cell_type": "code",
   "execution_count": 30,
   "id": "4c2b196c",
   "metadata": {},
   "outputs": [],
   "source": [
    "import networkx as nx\n",
    "transfer_graph = nx.DiGraph(G)\n"
   ]
  },
  {
   "cell_type": "markdown",
   "id": "0637a8a9",
   "metadata": {},
   "source": [
    "## Generation of Payment Graph"
   ]
  },
  {
   "cell_type": "markdown",
   "id": "79ea1470",
   "metadata": {},
   "source": [
    "For the Payment Graph, the required nodes are \"Users\" which are the combination of Sellers and Buyers, which in the OpenSea data is defined by the columns \"Seller_address\" and \"Buyer_address\". Further, the edges for the asset transfer graph are annotated with property tuples of the form (e) or ether, which in our case is defined by \"Price_Crypto\". "
   ]
  },
  {
   "cell_type": "markdown",
   "id": "fc234dfa",
   "metadata": {},
   "source": [
    "The Payment Graph thus contains nodes in the form of users (u) and directed edges from u1 to u2 annotated with property tuples of the form (e). "
   ]
  },
  {
   "cell_type": "markdown",
   "id": "8f01ae9a",
   "metadata": {},
   "source": [
    "<center> <b>Filtering the OpenSea data according to need </center></b>"
   ]
  },
  {
   "cell_type": "code",
   "execution_count": 31,
   "id": "26385c2a",
   "metadata": {},
   "outputs": [],
   "source": [
    "opensea_paymentG=opensea[['Seller_address','Buyer_address', 'Price_Crypto']]"
   ]
  },
  {
   "cell_type": "code",
   "execution_count": 32,
   "id": "c5655222",
   "metadata": {},
   "outputs": [
    {
     "data": {
      "text/plain": [
       "(1907262, 3)"
      ]
     },
     "execution_count": 32,
     "metadata": {},
     "output_type": "execute_result"
    }
   ],
   "source": [
    "opensea_paymentG.shape"
   ]
  },
  {
   "cell_type": "code",
   "execution_count": 33,
   "id": "6db75fbb",
   "metadata": {
    "scrolled": true
   },
   "outputs": [
    {
     "data": {
      "text/html": [
       "<div>\n",
       "<style scoped>\n",
       "    .dataframe tbody tr th:only-of-type {\n",
       "        vertical-align: middle;\n",
       "    }\n",
       "\n",
       "    .dataframe tbody tr th {\n",
       "        vertical-align: top;\n",
       "    }\n",
       "\n",
       "    .dataframe thead th {\n",
       "        text-align: right;\n",
       "    }\n",
       "</style>\n",
       "<table border=\"1\" class=\"dataframe\">\n",
       "  <thead>\n",
       "    <tr style=\"text-align: right;\">\n",
       "      <th></th>\n",
       "      <th>Seller_address</th>\n",
       "      <th>Buyer_address</th>\n",
       "      <th>Price_Crypto</th>\n",
       "    </tr>\n",
       "  </thead>\n",
       "  <tbody>\n",
       "    <tr>\n",
       "      <th>4163765</th>\n",
       "      <td>0xa21037849678af57f9865c6b9887f4e339f6377a</td>\n",
       "      <td>0x442dccee68425828c106a3662014b4f131e3bd9b</td>\n",
       "      <td>0.480694</td>\n",
       "    </tr>\n",
       "    <tr>\n",
       "      <th>4163766</th>\n",
       "      <td>0x491677edd34020bf644fd63b5d65113fb3b74b10</td>\n",
       "      <td>0xf165d353abddb7cb00052d610254249fcc12a8c7</td>\n",
       "      <td>0.023000</td>\n",
       "    </tr>\n",
       "    <tr>\n",
       "      <th>4163767</th>\n",
       "      <td>0xe357cbc0a5dfa4c238b769d065416d15fb56d8f9</td>\n",
       "      <td>0x24a6f141b18f27f65a1ba8b49e2d975d18e1a259</td>\n",
       "      <td>0.021000</td>\n",
       "    </tr>\n",
       "    <tr>\n",
       "      <th>4163768</th>\n",
       "      <td>0xc4d4672f651bf72414be1f828952480ccf0b2a8f</td>\n",
       "      <td>0x5b897d015dbb2661e1fd4a0df68322dfaec6ea14</td>\n",
       "      <td>0.018529</td>\n",
       "    </tr>\n",
       "    <tr>\n",
       "      <th>4163769</th>\n",
       "      <td>0x7045540552d1fcc2ab1eb64e1f868aeb490606fa</td>\n",
       "      <td>0xb58092199e8b47bd9e27533d9504282eb802c446</td>\n",
       "      <td>0.077828</td>\n",
       "    </tr>\n",
       "  </tbody>\n",
       "</table>\n",
       "</div>"
      ],
      "text/plain": [
       "                                     Seller_address  \\\n",
       "4163765  0xa21037849678af57f9865c6b9887f4e339f6377a   \n",
       "4163766  0x491677edd34020bf644fd63b5d65113fb3b74b10   \n",
       "4163767  0xe357cbc0a5dfa4c238b769d065416d15fb56d8f9   \n",
       "4163768  0xc4d4672f651bf72414be1f828952480ccf0b2a8f   \n",
       "4163769  0x7045540552d1fcc2ab1eb64e1f868aeb490606fa   \n",
       "\n",
       "                                      Buyer_address  Price_Crypto  \n",
       "4163765  0x442dccee68425828c106a3662014b4f131e3bd9b      0.480694  \n",
       "4163766  0xf165d353abddb7cb00052d610254249fcc12a8c7      0.023000  \n",
       "4163767  0x24a6f141b18f27f65a1ba8b49e2d975d18e1a259      0.021000  \n",
       "4163768  0x5b897d015dbb2661e1fd4a0df68322dfaec6ea14      0.018529  \n",
       "4163769  0xb58092199e8b47bd9e27533d9504282eb802c446      0.077828  "
      ]
     },
     "execution_count": 33,
     "metadata": {},
     "output_type": "execute_result"
    }
   ],
   "source": [
    "opensea_paymentG.head()"
   ]
  },
  {
   "cell_type": "markdown",
   "id": "ce838282",
   "metadata": {},
   "source": [
    "<center> <b> Creating the required edges </center></b>"
   ]
  },
  {
   "cell_type": "code",
   "execution_count": 34,
   "id": "4cf2a9a2",
   "metadata": {},
   "outputs": [
    {
     "name": "stderr",
     "output_type": "stream",
     "text": [
      "<ipython-input-34-ebc9f70dda42>:1: SettingWithCopyWarning: \n",
      "A value is trying to be set on a copy of a slice from a DataFrame.\n",
      "Try using .loc[row_indexer,col_indexer] = value instead\n",
      "\n",
      "See the caveats in the documentation: https://pandas.pydata.org/pandas-docs/stable/user_guide/indexing.html#returning-a-view-versus-a-copy\n",
      "  opensea_paymentG['edge_payment'] = list(zip(opensea_paymentG.Seller_address, opensea_paymentG.Buyer_address))\n"
     ]
    }
   ],
   "source": [
    "opensea_paymentG['edge_payment'] = list(zip(opensea_paymentG.Seller_address, opensea_paymentG.Buyer_address))"
   ]
  },
  {
   "cell_type": "code",
   "execution_count": 35,
   "id": "bb981e50",
   "metadata": {},
   "outputs": [],
   "source": [
    "edge_payment = opensea_paymentG['edge_payment'].tolist()"
   ]
  },
  {
   "cell_type": "code",
   "execution_count": 36,
   "id": "80441cec",
   "metadata": {
    "scrolled": true
   },
   "outputs": [
    {
     "data": {
      "text/html": [
       "<div>\n",
       "<style scoped>\n",
       "    .dataframe tbody tr th:only-of-type {\n",
       "        vertical-align: middle;\n",
       "    }\n",
       "\n",
       "    .dataframe tbody tr th {\n",
       "        vertical-align: top;\n",
       "    }\n",
       "\n",
       "    .dataframe thead th {\n",
       "        text-align: right;\n",
       "    }\n",
       "</style>\n",
       "<table border=\"1\" class=\"dataframe\">\n",
       "  <thead>\n",
       "    <tr style=\"text-align: right;\">\n",
       "      <th></th>\n",
       "      <th>Seller_address</th>\n",
       "      <th>Buyer_address</th>\n",
       "      <th>Price_Crypto</th>\n",
       "      <th>edge_payment</th>\n",
       "    </tr>\n",
       "  </thead>\n",
       "  <tbody>\n",
       "    <tr>\n",
       "      <th>4163765</th>\n",
       "      <td>0xa21037849678af57f9865c6b9887f4e339f6377a</td>\n",
       "      <td>0x442dccee68425828c106a3662014b4f131e3bd9b</td>\n",
       "      <td>0.480694</td>\n",
       "      <td>(0xa21037849678af57f9865c6b9887f4e339f6377a, 0...</td>\n",
       "    </tr>\n",
       "    <tr>\n",
       "      <th>4163766</th>\n",
       "      <td>0x491677edd34020bf644fd63b5d65113fb3b74b10</td>\n",
       "      <td>0xf165d353abddb7cb00052d610254249fcc12a8c7</td>\n",
       "      <td>0.023000</td>\n",
       "      <td>(0x491677edd34020bf644fd63b5d65113fb3b74b10, 0...</td>\n",
       "    </tr>\n",
       "    <tr>\n",
       "      <th>4163767</th>\n",
       "      <td>0xe357cbc0a5dfa4c238b769d065416d15fb56d8f9</td>\n",
       "      <td>0x24a6f141b18f27f65a1ba8b49e2d975d18e1a259</td>\n",
       "      <td>0.021000</td>\n",
       "      <td>(0xe357cbc0a5dfa4c238b769d065416d15fb56d8f9, 0...</td>\n",
       "    </tr>\n",
       "    <tr>\n",
       "      <th>4163768</th>\n",
       "      <td>0xc4d4672f651bf72414be1f828952480ccf0b2a8f</td>\n",
       "      <td>0x5b897d015dbb2661e1fd4a0df68322dfaec6ea14</td>\n",
       "      <td>0.018529</td>\n",
       "      <td>(0xc4d4672f651bf72414be1f828952480ccf0b2a8f, 0...</td>\n",
       "    </tr>\n",
       "    <tr>\n",
       "      <th>4163769</th>\n",
       "      <td>0x7045540552d1fcc2ab1eb64e1f868aeb490606fa</td>\n",
       "      <td>0xb58092199e8b47bd9e27533d9504282eb802c446</td>\n",
       "      <td>0.077828</td>\n",
       "      <td>(0x7045540552d1fcc2ab1eb64e1f868aeb490606fa, 0...</td>\n",
       "    </tr>\n",
       "  </tbody>\n",
       "</table>\n",
       "</div>"
      ],
      "text/plain": [
       "                                     Seller_address  \\\n",
       "4163765  0xa21037849678af57f9865c6b9887f4e339f6377a   \n",
       "4163766  0x491677edd34020bf644fd63b5d65113fb3b74b10   \n",
       "4163767  0xe357cbc0a5dfa4c238b769d065416d15fb56d8f9   \n",
       "4163768  0xc4d4672f651bf72414be1f828952480ccf0b2a8f   \n",
       "4163769  0x7045540552d1fcc2ab1eb64e1f868aeb490606fa   \n",
       "\n",
       "                                      Buyer_address  Price_Crypto  \\\n",
       "4163765  0x442dccee68425828c106a3662014b4f131e3bd9b      0.480694   \n",
       "4163766  0xf165d353abddb7cb00052d610254249fcc12a8c7      0.023000   \n",
       "4163767  0x24a6f141b18f27f65a1ba8b49e2d975d18e1a259      0.021000   \n",
       "4163768  0x5b897d015dbb2661e1fd4a0df68322dfaec6ea14      0.018529   \n",
       "4163769  0xb58092199e8b47bd9e27533d9504282eb802c446      0.077828   \n",
       "\n",
       "                                              edge_payment  \n",
       "4163765  (0xa21037849678af57f9865c6b9887f4e339f6377a, 0...  \n",
       "4163766  (0x491677edd34020bf644fd63b5d65113fb3b74b10, 0...  \n",
       "4163767  (0xe357cbc0a5dfa4c238b769d065416d15fb56d8f9, 0...  \n",
       "4163768  (0xc4d4672f651bf72414be1f828952480ccf0b2a8f, 0...  \n",
       "4163769  (0x7045540552d1fcc2ab1eb64e1f868aeb490606fa, 0...  "
      ]
     },
     "execution_count": 36,
     "metadata": {},
     "output_type": "execute_result"
    }
   ],
   "source": [
    "opensea_paymentG.head()"
   ]
  },
  {
   "cell_type": "markdown",
   "id": "41864f3f",
   "metadata": {},
   "source": [
    "<center> <b> Generating the required Graph</center> </b>"
   ]
  },
  {
   "cell_type": "code",
   "execution_count": 37,
   "id": "7b794d38",
   "metadata": {},
   "outputs": [],
   "source": [
    "G_P = nx.Graph()"
   ]
  },
  {
   "cell_type": "code",
   "execution_count": 38,
   "id": "ce67689c",
   "metadata": {},
   "outputs": [],
   "source": [
    "G_P.add_nodes_from(nodes)"
   ]
  },
  {
   "cell_type": "code",
   "execution_count": 39,
   "id": "b2d453cc",
   "metadata": {},
   "outputs": [],
   "source": [
    "G_P.add_edges_from(edge_payment)"
   ]
  },
  {
   "cell_type": "code",
   "execution_count": 40,
   "id": "65a6238e",
   "metadata": {
    "scrolled": true
   },
   "outputs": [
    {
     "data": {
      "text/plain": [
       "(214238, 949952)"
      ]
     },
     "execution_count": 40,
     "metadata": {},
     "output_type": "execute_result"
    }
   ],
   "source": [
    "G_P.number_of_nodes(), G_P.number_of_edges()\n"
   ]
  },
  {
   "cell_type": "markdown",
   "id": "3ed7ea32",
   "metadata": {},
   "source": [
    "<center> <b> Payment Graph</center> </b>"
   ]
  },
  {
   "cell_type": "code",
   "execution_count": 41,
   "id": "3d06f196",
   "metadata": {},
   "outputs": [],
   "source": [
    "payment_graph = nx.DiGraph(G_P)"
   ]
  },
  {
   "cell_type": "markdown",
   "id": "04346a79",
   "metadata": {},
   "source": [
    "# Generation of Sales Graph"
   ]
  },
  {
   "cell_type": "markdown",
   "id": "46e8c68d",
   "metadata": {},
   "source": [
    "For an Payment Graph, the required nodes are \"Users\" which are the combination of Sellers and Buyers, which in the OpenSea data is defined by the columns \"Seller_address\" and \"Buyer_address\". Further, the edges for the asset transfer graph are annotated with property tuples of the form (a,p,t), which in our case is defined by 'ID_token', 'Transaction_hash', 'Price_USD'. "
   ]
  },
  {
   "cell_type": "markdown",
   "id": "b7477c8b",
   "metadata": {},
   "source": [
    "The Payment Graph thus contains nodes in the form of users (u) and directed edges from u1 to u2 annotated with property tuples of the form (e). "
   ]
  },
  {
   "cell_type": "code",
   "execution_count": 76,
   "id": "b005071c",
   "metadata": {},
   "outputs": [],
   "source": [
    "opensea_salesG=opensea[['Seller_address','Buyer_address','ID_token', 'Transaction_hash', 'Price_USD']]"
   ]
  },
  {
   "cell_type": "code",
   "execution_count": 77,
   "id": "dab257e2",
   "metadata": {},
   "outputs": [
    {
     "data": {
      "text/plain": [
       "(1907262, 5)"
      ]
     },
     "execution_count": 77,
     "metadata": {},
     "output_type": "execute_result"
    }
   ],
   "source": [
    "opensea_salesG.shape"
   ]
  },
  {
   "cell_type": "code",
   "execution_count": 78,
   "id": "fb8df275",
   "metadata": {
    "scrolled": true
   },
   "outputs": [
    {
     "data": {
      "text/html": [
       "<div>\n",
       "<style scoped>\n",
       "    .dataframe tbody tr th:only-of-type {\n",
       "        vertical-align: middle;\n",
       "    }\n",
       "\n",
       "    .dataframe tbody tr th {\n",
       "        vertical-align: top;\n",
       "    }\n",
       "\n",
       "    .dataframe thead th {\n",
       "        text-align: right;\n",
       "    }\n",
       "</style>\n",
       "<table border=\"1\" class=\"dataframe\">\n",
       "  <thead>\n",
       "    <tr style=\"text-align: right;\">\n",
       "      <th></th>\n",
       "      <th>Seller_address</th>\n",
       "      <th>Buyer_address</th>\n",
       "      <th>ID_token</th>\n",
       "      <th>Transaction_hash</th>\n",
       "      <th>Price_USD</th>\n",
       "    </tr>\n",
       "  </thead>\n",
       "  <tbody>\n",
       "    <tr>\n",
       "      <th>4163765</th>\n",
       "      <td>0xa21037849678af57f9865c6b9887f4e339f6377a</td>\n",
       "      <td>0x442dccee68425828c106a3662014b4f131e3bd9b</td>\n",
       "      <td>570964</td>\n",
       "      <td>0xb9fa19b74de10a091c53043aa9f9d84c3233366a0abf...</td>\n",
       "      <td>426.389768</td>\n",
       "    </tr>\n",
       "    <tr>\n",
       "      <th>4163766</th>\n",
       "      <td>0x491677edd34020bf644fd63b5d65113fb3b74b10</td>\n",
       "      <td>0xf165d353abddb7cb00052d610254249fcc12a8c7</td>\n",
       "      <td>553057</td>\n",
       "      <td>0x1e886781c29a6fa6cb02d5b5407a125194930b9cd20e...</td>\n",
       "      <td>20.401690</td>\n",
       "    </tr>\n",
       "    <tr>\n",
       "      <th>4163767</th>\n",
       "      <td>0xe357cbc0a5dfa4c238b769d065416d15fb56d8f9</td>\n",
       "      <td>0x24a6f141b18f27f65a1ba8b49e2d975d18e1a259</td>\n",
       "      <td>422030</td>\n",
       "      <td>0x7bb2f01c8d30383927ba677efb0ead9a3d796e8bdf24...</td>\n",
       "      <td>17.803485</td>\n",
       "    </tr>\n",
       "    <tr>\n",
       "      <th>4163768</th>\n",
       "      <td>0xc4d4672f651bf72414be1f828952480ccf0b2a8f</td>\n",
       "      <td>0x5b897d015dbb2661e1fd4a0df68322dfaec6ea14</td>\n",
       "      <td>551265</td>\n",
       "      <td>0x78dfb2e6f8fd82f811eddbbc495bf7e0206284c85244...</td>\n",
       "      <td>15.708933</td>\n",
       "    </tr>\n",
       "    <tr>\n",
       "      <th>4163769</th>\n",
       "      <td>0x7045540552d1fcc2ab1eb64e1f868aeb490606fa</td>\n",
       "      <td>0xb58092199e8b47bd9e27533d9504282eb802c446</td>\n",
       "      <td>561824</td>\n",
       "      <td>0xf465d5c0736e522b152c380331d45c0886d0e17eadb6...</td>\n",
       "      <td>65.981353</td>\n",
       "    </tr>\n",
       "  </tbody>\n",
       "</table>\n",
       "</div>"
      ],
      "text/plain": [
       "                                     Seller_address  \\\n",
       "4163765  0xa21037849678af57f9865c6b9887f4e339f6377a   \n",
       "4163766  0x491677edd34020bf644fd63b5d65113fb3b74b10   \n",
       "4163767  0xe357cbc0a5dfa4c238b769d065416d15fb56d8f9   \n",
       "4163768  0xc4d4672f651bf72414be1f828952480ccf0b2a8f   \n",
       "4163769  0x7045540552d1fcc2ab1eb64e1f868aeb490606fa   \n",
       "\n",
       "                                      Buyer_address ID_token  \\\n",
       "4163765  0x442dccee68425828c106a3662014b4f131e3bd9b   570964   \n",
       "4163766  0xf165d353abddb7cb00052d610254249fcc12a8c7   553057   \n",
       "4163767  0x24a6f141b18f27f65a1ba8b49e2d975d18e1a259   422030   \n",
       "4163768  0x5b897d015dbb2661e1fd4a0df68322dfaec6ea14   551265   \n",
       "4163769  0xb58092199e8b47bd9e27533d9504282eb802c446   561824   \n",
       "\n",
       "                                          Transaction_hash   Price_USD  \n",
       "4163765  0xb9fa19b74de10a091c53043aa9f9d84c3233366a0abf...  426.389768  \n",
       "4163766  0x1e886781c29a6fa6cb02d5b5407a125194930b9cd20e...   20.401690  \n",
       "4163767  0x7bb2f01c8d30383927ba677efb0ead9a3d796e8bdf24...   17.803485  \n",
       "4163768  0x78dfb2e6f8fd82f811eddbbc495bf7e0206284c85244...   15.708933  \n",
       "4163769  0xf465d5c0736e522b152c380331d45c0886d0e17eadb6...   65.981353  "
      ]
     },
     "execution_count": 78,
     "metadata": {},
     "output_type": "execute_result"
    }
   ],
   "source": [
    "opensea_salesG.head()"
   ]
  },
  {
   "cell_type": "code",
   "execution_count": 91,
   "id": "8af782f9",
   "metadata": {},
   "outputs": [],
   "source": [
    "node_A= opensea_salesG['Seller_address'].tolist()\n",
    "node_B= opensea_salesG['Buyer_address'].tolist()"
   ]
  },
  {
   "cell_type": "code",
   "execution_count": 92,
   "id": "2ead98ad",
   "metadata": {},
   "outputs": [],
   "source": [
    "node_C= node_A+node_B"
   ]
  },
  {
   "cell_type": "code",
   "execution_count": null,
   "id": "31e79e00",
   "metadata": {},
   "outputs": [],
   "source": []
  },
  {
   "cell_type": "markdown",
   "id": "49cd2625",
   "metadata": {},
   "source": [
    "<center> <b> Creating the required edges </center></b>"
   ]
  },
  {
   "cell_type": "code",
   "execution_count": 79,
   "id": "9ae0ec3f",
   "metadata": {},
   "outputs": [
    {
     "name": "stderr",
     "output_type": "stream",
     "text": [
      "<ipython-input-79-344b54ca9446>:1: SettingWithCopyWarning: \n",
      "A value is trying to be set on a copy of a slice from a DataFrame.\n",
      "Try using .loc[row_indexer,col_indexer] = value instead\n",
      "\n",
      "See the caveats in the documentation: https://pandas.pydata.org/pandas-docs/stable/user_guide/indexing.html#returning-a-view-versus-a-copy\n",
      "  opensea_salesG['edge_sales'] = list(zip(opensea_salesG.Seller_address, opensea_salesG.Buyer_address))\n"
     ]
    }
   ],
   "source": [
    "opensea_salesG['edge_sales'] = list(zip(opensea_salesG.Seller_address, opensea_salesG.Buyer_address))"
   ]
  },
  {
   "cell_type": "code",
   "execution_count": 80,
   "id": "ae456aad",
   "metadata": {},
   "outputs": [],
   "source": [
    "edge_sales = opensea_salesG['edge_sales'].tolist()"
   ]
  },
  {
   "cell_type": "code",
   "execution_count": 81,
   "id": "1f59d224",
   "metadata": {},
   "outputs": [
    {
     "data": {
      "text/html": [
       "<div>\n",
       "<style scoped>\n",
       "    .dataframe tbody tr th:only-of-type {\n",
       "        vertical-align: middle;\n",
       "    }\n",
       "\n",
       "    .dataframe tbody tr th {\n",
       "        vertical-align: top;\n",
       "    }\n",
       "\n",
       "    .dataframe thead th {\n",
       "        text-align: right;\n",
       "    }\n",
       "</style>\n",
       "<table border=\"1\" class=\"dataframe\">\n",
       "  <thead>\n",
       "    <tr style=\"text-align: right;\">\n",
       "      <th></th>\n",
       "      <th>Seller_address</th>\n",
       "      <th>Buyer_address</th>\n",
       "      <th>Price_Crypto</th>\n",
       "      <th>edge_payment</th>\n",
       "    </tr>\n",
       "  </thead>\n",
       "  <tbody>\n",
       "    <tr>\n",
       "      <th>4163765</th>\n",
       "      <td>0xa21037849678af57f9865c6b9887f4e339f6377a</td>\n",
       "      <td>0x442dccee68425828c106a3662014b4f131e3bd9b</td>\n",
       "      <td>0.480694</td>\n",
       "      <td>(0xa21037849678af57f9865c6b9887f4e339f6377a, 0...</td>\n",
       "    </tr>\n",
       "    <tr>\n",
       "      <th>4163766</th>\n",
       "      <td>0x491677edd34020bf644fd63b5d65113fb3b74b10</td>\n",
       "      <td>0xf165d353abddb7cb00052d610254249fcc12a8c7</td>\n",
       "      <td>0.023000</td>\n",
       "      <td>(0x491677edd34020bf644fd63b5d65113fb3b74b10, 0...</td>\n",
       "    </tr>\n",
       "    <tr>\n",
       "      <th>4163767</th>\n",
       "      <td>0xe357cbc0a5dfa4c238b769d065416d15fb56d8f9</td>\n",
       "      <td>0x24a6f141b18f27f65a1ba8b49e2d975d18e1a259</td>\n",
       "      <td>0.021000</td>\n",
       "      <td>(0xe357cbc0a5dfa4c238b769d065416d15fb56d8f9, 0...</td>\n",
       "    </tr>\n",
       "    <tr>\n",
       "      <th>4163768</th>\n",
       "      <td>0xc4d4672f651bf72414be1f828952480ccf0b2a8f</td>\n",
       "      <td>0x5b897d015dbb2661e1fd4a0df68322dfaec6ea14</td>\n",
       "      <td>0.018529</td>\n",
       "      <td>(0xc4d4672f651bf72414be1f828952480ccf0b2a8f, 0...</td>\n",
       "    </tr>\n",
       "    <tr>\n",
       "      <th>4163769</th>\n",
       "      <td>0x7045540552d1fcc2ab1eb64e1f868aeb490606fa</td>\n",
       "      <td>0xb58092199e8b47bd9e27533d9504282eb802c446</td>\n",
       "      <td>0.077828</td>\n",
       "      <td>(0x7045540552d1fcc2ab1eb64e1f868aeb490606fa, 0...</td>\n",
       "    </tr>\n",
       "  </tbody>\n",
       "</table>\n",
       "</div>"
      ],
      "text/plain": [
       "                                     Seller_address  \\\n",
       "4163765  0xa21037849678af57f9865c6b9887f4e339f6377a   \n",
       "4163766  0x491677edd34020bf644fd63b5d65113fb3b74b10   \n",
       "4163767  0xe357cbc0a5dfa4c238b769d065416d15fb56d8f9   \n",
       "4163768  0xc4d4672f651bf72414be1f828952480ccf0b2a8f   \n",
       "4163769  0x7045540552d1fcc2ab1eb64e1f868aeb490606fa   \n",
       "\n",
       "                                      Buyer_address  Price_Crypto  \\\n",
       "4163765  0x442dccee68425828c106a3662014b4f131e3bd9b      0.480694   \n",
       "4163766  0xf165d353abddb7cb00052d610254249fcc12a8c7      0.023000   \n",
       "4163767  0x24a6f141b18f27f65a1ba8b49e2d975d18e1a259      0.021000   \n",
       "4163768  0x5b897d015dbb2661e1fd4a0df68322dfaec6ea14      0.018529   \n",
       "4163769  0xb58092199e8b47bd9e27533d9504282eb802c446      0.077828   \n",
       "\n",
       "                                              edge_payment  \n",
       "4163765  (0xa21037849678af57f9865c6b9887f4e339f6377a, 0...  \n",
       "4163766  (0x491677edd34020bf644fd63b5d65113fb3b74b10, 0...  \n",
       "4163767  (0xe357cbc0a5dfa4c238b769d065416d15fb56d8f9, 0...  \n",
       "4163768  (0xc4d4672f651bf72414be1f828952480ccf0b2a8f, 0...  \n",
       "4163769  (0x7045540552d1fcc2ab1eb64e1f868aeb490606fa, 0...  "
      ]
     },
     "execution_count": 81,
     "metadata": {},
     "output_type": "execute_result"
    }
   ],
   "source": [
    "opensea_paymentG.head()"
   ]
  },
  {
   "cell_type": "markdown",
   "id": "67d6afed",
   "metadata": {},
   "source": [
    "<center> <b> Generating the required Graph</center> </b>"
   ]
  },
  {
   "cell_type": "code",
   "execution_count": 82,
   "id": "d686440f",
   "metadata": {},
   "outputs": [],
   "source": [
    "G_S = nx.Graph()"
   ]
  },
  {
   "cell_type": "code",
   "execution_count": 94,
   "id": "0d777c39",
   "metadata": {},
   "outputs": [],
   "source": [
    "G_S.add_nodes_from(node_C)"
   ]
  },
  {
   "cell_type": "code",
   "execution_count": 84,
   "id": "d508d888",
   "metadata": {},
   "outputs": [],
   "source": [
    "G_S.add_edges_from(edge_sales)"
   ]
  },
  {
   "cell_type": "code",
   "execution_count": 95,
   "id": "2649a817",
   "metadata": {},
   "outputs": [
    {
     "data": {
      "text/plain": [
       "(214238, 949952)"
      ]
     },
     "execution_count": 95,
     "metadata": {},
     "output_type": "execute_result"
    }
   ],
   "source": [
    "G_S.number_of_nodes(), G_S.number_of_edges()"
   ]
  },
  {
   "cell_type": "markdown",
   "id": "d5c60ebc",
   "metadata": {},
   "source": [
    "<center> <b> Sales Graph</center> </b>"
   ]
  },
  {
   "cell_type": "code",
   "execution_count": 96,
   "id": "501a0850",
   "metadata": {},
   "outputs": [],
   "source": [
    "payment_graph = nx.DiGraph(G_S)"
   ]
  },
  {
   "cell_type": "markdown",
   "id": "07fdee44",
   "metadata": {},
   "source": [
    "## Sample 1 "
   ]
  },
  {
   "cell_type": "code",
   "execution_count": 42,
   "id": "09df1654",
   "metadata": {},
   "outputs": [],
   "source": [
    "opensea_sample=opensea.sample(n=10, replace=False, random_state=0)"
   ]
  },
  {
   "cell_type": "code",
   "execution_count": 45,
   "id": "a1751c5c",
   "metadata": {},
   "outputs": [
    {
     "data": {
      "text/plain": [
       "(10, 3)"
      ]
     },
     "execution_count": 45,
     "metadata": {},
     "output_type": "execute_result"
    }
   ],
   "source": [
    "opensea_sample.shape"
   ]
  },
  {
   "cell_type": "code",
   "execution_count": 44,
   "id": "16660aef",
   "metadata": {},
   "outputs": [],
   "source": [
    "opensea_sample=opensea_sample[['Seller_address','Buyer_address', 'ID_token']]"
   ]
  },
  {
   "cell_type": "code",
   "execution_count": 46,
   "id": "59d23144",
   "metadata": {},
   "outputs": [
    {
     "data": {
      "text/html": [
       "<div>\n",
       "<style scoped>\n",
       "    .dataframe tbody tr th:only-of-type {\n",
       "        vertical-align: middle;\n",
       "    }\n",
       "\n",
       "    .dataframe tbody tr th {\n",
       "        vertical-align: top;\n",
       "    }\n",
       "\n",
       "    .dataframe thead th {\n",
       "        text-align: right;\n",
       "    }\n",
       "</style>\n",
       "<table border=\"1\" class=\"dataframe\">\n",
       "  <thead>\n",
       "    <tr style=\"text-align: right;\">\n",
       "      <th></th>\n",
       "      <th>Seller_address</th>\n",
       "      <th>Buyer_address</th>\n",
       "      <th>ID_token</th>\n",
       "    </tr>\n",
       "  </thead>\n",
       "  <tbody>\n",
       "    <tr>\n",
       "      <th>5381250</th>\n",
       "      <td>0x96a3678fdc6d47423fd96b9bdce056f7fb3fbde4</td>\n",
       "      <td>0xd9cc8ddabe7602c1863f4ec37d01c2882004b2d6</td>\n",
       "      <td>77535</td>\n",
       "    </tr>\n",
       "    <tr>\n",
       "      <th>5812064</th>\n",
       "      <td>0xcec5a8658ddcce1560412d79fa8225589005d3a8</td>\n",
       "      <td>0x8d3e621d6be9898a711bec76ba3b908778ad0aba</td>\n",
       "      <td>19</td>\n",
       "    </tr>\n",
       "    <tr>\n",
       "      <th>5300244</th>\n",
       "      <td>0xa81eac3009bd6e6cce36602d6851fda789ddc3bb</td>\n",
       "      <td>0x9d3cbd9c7e56f09b2760115821b1e0632979bf02</td>\n",
       "      <td>52</td>\n",
       "    </tr>\n",
       "    <tr>\n",
       "      <th>5200481</th>\n",
       "      <td>0x6bbd3fe4374d47cc4885ccb4b5544718dab57753</td>\n",
       "      <td>0xd4a17ad38d5264d165db58e72a8cbe715d7dbcf7</td>\n",
       "      <td>109398723</td>\n",
       "    </tr>\n",
       "    <tr>\n",
       "      <th>5756688</th>\n",
       "      <td>0xa357a589a37cf7b6edb31b707e8ed3219c8249ac</td>\n",
       "      <td>0xdd581247e951056839b5431ce85cb2df4c5dc2ff</td>\n",
       "      <td>7388185251258536682939776837884178703989485178...</td>\n",
       "    </tr>\n",
       "  </tbody>\n",
       "</table>\n",
       "</div>"
      ],
      "text/plain": [
       "                                     Seller_address  \\\n",
       "5381250  0x96a3678fdc6d47423fd96b9bdce056f7fb3fbde4   \n",
       "5812064  0xcec5a8658ddcce1560412d79fa8225589005d3a8   \n",
       "5300244  0xa81eac3009bd6e6cce36602d6851fda789ddc3bb   \n",
       "5200481  0x6bbd3fe4374d47cc4885ccb4b5544718dab57753   \n",
       "5756688  0xa357a589a37cf7b6edb31b707e8ed3219c8249ac   \n",
       "\n",
       "                                      Buyer_address  \\\n",
       "5381250  0xd9cc8ddabe7602c1863f4ec37d01c2882004b2d6   \n",
       "5812064  0x8d3e621d6be9898a711bec76ba3b908778ad0aba   \n",
       "5300244  0x9d3cbd9c7e56f09b2760115821b1e0632979bf02   \n",
       "5200481  0xd4a17ad38d5264d165db58e72a8cbe715d7dbcf7   \n",
       "5756688  0xdd581247e951056839b5431ce85cb2df4c5dc2ff   \n",
       "\n",
       "                                                  ID_token  \n",
       "5381250                                              77535  \n",
       "5812064                                                 19  \n",
       "5300244                                                 52  \n",
       "5200481                                          109398723  \n",
       "5756688  7388185251258536682939776837884178703989485178...  "
      ]
     },
     "execution_count": 46,
     "metadata": {},
     "output_type": "execute_result"
    }
   ],
   "source": [
    "opensea_sample.head()"
   ]
  },
  {
   "cell_type": "code",
   "execution_count": 47,
   "id": "94705ba6",
   "metadata": {},
   "outputs": [],
   "source": [
    "node_1= opensea_sample['Seller_address'].tolist()\n",
    "node_2= opensea_sample['Buyer_address'].tolist()"
   ]
  },
  {
   "cell_type": "code",
   "execution_count": 48,
   "id": "e39f3a2a",
   "metadata": {},
   "outputs": [],
   "source": [
    "node_3= node_1+node_2"
   ]
  },
  {
   "cell_type": "code",
   "execution_count": 49,
   "id": "76cf3fc2",
   "metadata": {},
   "outputs": [
    {
     "data": {
      "text/plain": [
       "20"
      ]
     },
     "execution_count": 49,
     "metadata": {},
     "output_type": "execute_result"
    }
   ],
   "source": [
    "len(node_3)"
   ]
  },
  {
   "cell_type": "code",
   "execution_count": 50,
   "id": "81c1d449",
   "metadata": {},
   "outputs": [],
   "source": [
    "opensea_sample['edge_sample'] = list(zip(opensea_sample.Seller_address, opensea_sample.Buyer_address))"
   ]
  },
  {
   "cell_type": "code",
   "execution_count": 51,
   "id": "356c3eaa",
   "metadata": {},
   "outputs": [],
   "source": [
    "edge_sample = opensea_sample['edge_sample'].tolist()"
   ]
  },
  {
   "cell_type": "code",
   "execution_count": 52,
   "id": "6ab50ed7",
   "metadata": {},
   "outputs": [],
   "source": [
    "G_sample = nx.Graph()"
   ]
  },
  {
   "cell_type": "code",
   "execution_count": 53,
   "id": "bdd9dd0b",
   "metadata": {},
   "outputs": [],
   "source": [
    "G_sample.add_nodes_from(node_3)"
   ]
  },
  {
   "cell_type": "code",
   "execution_count": 54,
   "id": "99a01263",
   "metadata": {},
   "outputs": [],
   "source": [
    "G_sample.add_edges_from(edge_sample)"
   ]
  },
  {
   "cell_type": "code",
   "execution_count": 55,
   "id": "6cc686f5",
   "metadata": {},
   "outputs": [
    {
     "data": {
      "text/plain": [
       "(20, 10)"
      ]
     },
     "execution_count": 55,
     "metadata": {},
     "output_type": "execute_result"
    }
   ],
   "source": [
    "G_sample.number_of_nodes(), G_sample.number_of_edges()"
   ]
  },
  {
   "cell_type": "code",
   "execution_count": 56,
   "id": "55781eba",
   "metadata": {},
   "outputs": [],
   "source": [
    "graph_sample = nx.DiGraph(G_sample)"
   ]
  },
  {
   "cell_type": "code",
   "execution_count": null,
   "id": "b8210089",
   "metadata": {},
   "outputs": [],
   "source": [
    "pip install decorator==5.0.9"
   ]
  },
  {
   "cell_type": "code",
   "execution_count": 59,
   "id": "f1e068ba",
   "metadata": {},
   "outputs": [
    {
     "data": {
      "image/png": "[encoded data removed]",
      "text/plain": [
       "<Figure size 864x864 with 1 Axes>"
      ]
     },
     "metadata": {},
     "output_type": "display_data"
    }
   ],
   "source": [
    "plt.figure(figsize=(12,12))\n",
    "nx.draw_networkx(graph_sample, with_labels=False)"
   ]
  },
  {
   "cell_type": "markdown",
   "id": "8b2d609a",
   "metadata": {},
   "source": [
    "## Sample 2 "
   ]
  },
  {
   "cell_type": "code",
   "execution_count": 61,
   "id": "8d66698c",
   "metadata": {},
   "outputs": [],
   "source": [
    "opensea_sample2=opensea.sample(n=4, replace=False, random_state=0)"
   ]
  },
  {
   "cell_type": "code",
   "execution_count": 62,
   "id": "6d464f6d",
   "metadata": {},
   "outputs": [],
   "source": [
    "opensea_sample2=opensea_sample2[['Seller_address','Buyer_address','ID_token', 'Transaction_hash', 'Price_USD']]"
   ]
  },
  {
   "cell_type": "code",
   "execution_count": 63,
   "id": "58c4318c",
   "metadata": {},
   "outputs": [
    {
     "data": {
      "text/plain": [
       "(4, 5)"
      ]
     },
     "execution_count": 63,
     "metadata": {},
     "output_type": "execute_result"
    }
   ],
   "source": [
    "opensea_sample2.shape"
   ]
  },
  {
   "cell_type": "code",
   "execution_count": 64,
   "id": "393a72fb",
   "metadata": {},
   "outputs": [
    {
     "data": {
      "text/html": [
       "<div>\n",
       "<style scoped>\n",
       "    .dataframe tbody tr th:only-of-type {\n",
       "        vertical-align: middle;\n",
       "    }\n",
       "\n",
       "    .dataframe tbody tr th {\n",
       "        vertical-align: top;\n",
       "    }\n",
       "\n",
       "    .dataframe thead th {\n",
       "        text-align: right;\n",
       "    }\n",
       "</style>\n",
       "<table border=\"1\" class=\"dataframe\">\n",
       "  <thead>\n",
       "    <tr style=\"text-align: right;\">\n",
       "      <th></th>\n",
       "      <th>Seller_address</th>\n",
       "      <th>Buyer_address</th>\n",
       "      <th>ID_token</th>\n",
       "      <th>Transaction_hash</th>\n",
       "      <th>Price_USD</th>\n",
       "    </tr>\n",
       "  </thead>\n",
       "  <tbody>\n",
       "    <tr>\n",
       "      <th>5381250</th>\n",
       "      <td>0x96a3678fdc6d47423fd96b9bdce056f7fb3fbde4</td>\n",
       "      <td>0xd9cc8ddabe7602c1863f4ec37d01c2882004b2d6</td>\n",
       "      <td>77535</td>\n",
       "      <td>0x64a136c68d0e84cdaafd2c648df2d82a434ed4ea247e...</td>\n",
       "      <td>426.522250</td>\n",
       "    </tr>\n",
       "    <tr>\n",
       "      <th>5812064</th>\n",
       "      <td>0xcec5a8658ddcce1560412d79fa8225589005d3a8</td>\n",
       "      <td>0x8d3e621d6be9898a711bec76ba3b908778ad0aba</td>\n",
       "      <td>19</td>\n",
       "      <td>0xeedf3a3fcec594f9be4dc511619f3de33511f02a7017...</td>\n",
       "      <td>456.973020</td>\n",
       "    </tr>\n",
       "    <tr>\n",
       "      <th>5300244</th>\n",
       "      <td>0xa81eac3009bd6e6cce36602d6851fda789ddc3bb</td>\n",
       "      <td>0x9d3cbd9c7e56f09b2760115821b1e0632979bf02</td>\n",
       "      <td>52</td>\n",
       "      <td>0x0d437fab773f9a2e3339e15d36ee4da2b9466721bb99...</td>\n",
       "      <td>563.591856</td>\n",
       "    </tr>\n",
       "    <tr>\n",
       "      <th>5200481</th>\n",
       "      <td>0x6bbd3fe4374d47cc4885ccb4b5544718dab57753</td>\n",
       "      <td>0xd4a17ad38d5264d165db58e72a8cbe715d7dbcf7</td>\n",
       "      <td>109398723</td>\n",
       "      <td>0x927739b896899751cd2838534e3b155c81e2ff15e6ea...</td>\n",
       "      <td>11.131941</td>\n",
       "    </tr>\n",
       "  </tbody>\n",
       "</table>\n",
       "</div>"
      ],
      "text/plain": [
       "                                     Seller_address  \\\n",
       "5381250  0x96a3678fdc6d47423fd96b9bdce056f7fb3fbde4   \n",
       "5812064  0xcec5a8658ddcce1560412d79fa8225589005d3a8   \n",
       "5300244  0xa81eac3009bd6e6cce36602d6851fda789ddc3bb   \n",
       "5200481  0x6bbd3fe4374d47cc4885ccb4b5544718dab57753   \n",
       "\n",
       "                                      Buyer_address   ID_token  \\\n",
       "5381250  0xd9cc8ddabe7602c1863f4ec37d01c2882004b2d6      77535   \n",
       "5812064  0x8d3e621d6be9898a711bec76ba3b908778ad0aba         19   \n",
       "5300244  0x9d3cbd9c7e56f09b2760115821b1e0632979bf02         52   \n",
       "5200481  0xd4a17ad38d5264d165db58e72a8cbe715d7dbcf7  109398723   \n",
       "\n",
       "                                          Transaction_hash   Price_USD  \n",
       "5381250  0x64a136c68d0e84cdaafd2c648df2d82a434ed4ea247e...  426.522250  \n",
       "5812064  0xeedf3a3fcec594f9be4dc511619f3de33511f02a7017...  456.973020  \n",
       "5300244  0x0d437fab773f9a2e3339e15d36ee4da2b9466721bb99...  563.591856  \n",
       "5200481  0x927739b896899751cd2838534e3b155c81e2ff15e6ea...   11.131941  "
      ]
     },
     "execution_count": 64,
     "metadata": {},
     "output_type": "execute_result"
    }
   ],
   "source": [
    "opensea_sample2.head()"
   ]
  },
  {
   "cell_type": "code",
   "execution_count": 65,
   "id": "396fcb0a",
   "metadata": {},
   "outputs": [],
   "source": [
    "node_11= opensea_sample2['Seller_address'].tolist()\n",
    "node_22= opensea_sample2['Buyer_address'].tolist()"
   ]
  },
  {
   "cell_type": "code",
   "execution_count": 66,
   "id": "8ad16e9d",
   "metadata": {},
   "outputs": [],
   "source": [
    "node_33= node_11+node_22"
   ]
  },
  {
   "cell_type": "code",
   "execution_count": 67,
   "id": "718c616e",
   "metadata": {},
   "outputs": [
    {
     "data": {
      "text/plain": [
       "8"
      ]
     },
     "execution_count": 67,
     "metadata": {},
     "output_type": "execute_result"
    }
   ],
   "source": [
    "len(node_33)"
   ]
  },
  {
   "cell_type": "code",
   "execution_count": 68,
   "id": "503bd99f",
   "metadata": {},
   "outputs": [],
   "source": [
    "opensea_sample2['edge_sample_2'] = list(zip(opensea_sample2.Seller_address, opensea_sample2.Buyer_address))"
   ]
  },
  {
   "cell_type": "code",
   "execution_count": 69,
   "id": "229f0a8a",
   "metadata": {},
   "outputs": [],
   "source": [
    "edge_sample_2 = opensea_sample2['edge_sample_2'].tolist()"
   ]
  },
  {
   "cell_type": "code",
   "execution_count": 70,
   "id": "9711534d",
   "metadata": {},
   "outputs": [],
   "source": [
    "G_sample2 = nx.Graph()"
   ]
  },
  {
   "cell_type": "code",
   "execution_count": 71,
   "id": "463ff86e",
   "metadata": {},
   "outputs": [],
   "source": [
    "G_sample2.add_nodes_from(node_33)"
   ]
  },
  {
   "cell_type": "code",
   "execution_count": 72,
   "id": "2d1a01a8",
   "metadata": {},
   "outputs": [],
   "source": [
    "G_sample2.add_edges_from(edge_sample_2)"
   ]
  },
  {
   "cell_type": "code",
   "execution_count": 73,
   "id": "66829c15",
   "metadata": {},
   "outputs": [
    {
     "data": {
      "text/plain": [
       "(8, 4)"
      ]
     },
     "execution_count": 73,
     "metadata": {},
     "output_type": "execute_result"
    }
   ],
   "source": [
    "G_sample2.number_of_nodes(), G_sample2.number_of_edges()"
   ]
  },
  {
   "cell_type": "code",
   "execution_count": 74,
   "id": "20ce5e68",
   "metadata": {},
   "outputs": [],
   "source": [
    "graph_sample2 = nx.DiGraph(G_sample2)"
   ]
  },
  {
   "cell_type": "code",
   "execution_count": 90,
   "id": "b06ce052",
   "metadata": {
    "scrolled": true
   },
   "outputs": [
    {
     "data": {
      "image/png": "[encoded data removed]",
      "text/plain": [
       "<Figure size 720x720 with 1 Axes>"
      ]
     },
     "metadata": {},
     "output_type": "display_data"
    }
   ],
   "source": [
    "plt.figure(figsize=(10,10))\n",
    "nx.draw_networkx(graph_sample2, with_labels=False)"
   ]
  },
  {
   "cell_type": "code",
   "execution_count": null,
   "id": "e1455ef7",
   "metadata": {},
   "outputs": [],
   "source": []
  }
 ],
 "metadata": {
  "kernelspec": {
   "display_name": "Python 3 (ipykernel)",
   "language": "python",
   "name": "python3"
  },
  "language_info": {
   "codemirror_mode": {
    "name": "ipython",
    "version": 3
   },
   "file_extension": ".py",
   "mimetype": "text/x-python",
   "name": "python",
   "nbconvert_exporter": "python",
   "pygments_lexer": "ipython3",
   "version": "3.12.4"
  }
 },
 "nbformat": 4,
 "nbformat_minor": 5
}
